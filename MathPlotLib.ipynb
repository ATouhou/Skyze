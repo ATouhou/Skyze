{
 "cells": [
  {
   "cell_type": "code",
   "execution_count": 7,
   "metadata": {
    "collapsed": false
   },
   "outputs": [
    {
     "name": "stdout",
     "output_type": "stream",
     "text": [
      "File Path: /Users/michaelnew/Dropbox/Trading/Data/Test_Data/Bitcoin_TEST.csv\n"
     ]
    }
   ],
   "source": [
    "import pandas as pd\n",
    "import numpy as np\n",
    "import datetime as dt\n",
    "\n",
    "import matplotlib.pyplot as plt\n",
    "import matplotlib.ticker as mticker\n",
    "from matplotlib.finance import candlestick_ohlc\n",
    "import matplotlib.dates as mdates\n",
    "#%matplotlib inline \n",
    "\n",
    "from Market import Market\n",
    "mkt_name = \"Bitcoin_TEST\"\n",
    "mkt = Market.fromTesting(mkt_name)\n",
    "mkt_data = mkt.readMarketDataCSV(p_testing=True)"
   ]
  },
  {
   "cell_type": "code",
   "execution_count": 27,
   "metadata": {
    "collapsed": false
   },
   "outputs": [
    {
     "name": "stdout",
     "output_type": "stream",
     "text": [
      "              Open    High     Low   Close Volume   MarketCap  HLOrder\n",
      "2013-04-28  135.30  135.98  132.10  134.21      -  1500520000      NaN\n",
      "2013-04-29  134.44  147.49  134.00  144.54      -  1491160000      NaN\n",
      "2013-04-30  144.00  146.93  134.05  139.00      -  1597780000      NaN\n",
      "2013-05-01  139.00  139.89  107.72  116.99      -  1542820000      NaN\n",
      "2013-05-02  116.38  125.60   92.28  105.21      -  1292190000      NaN\n",
      "1586\n"
     ]
    },
    {
     "data": {
      "text/html": [
       "<div>\n",
       "<table border=\"1\" class=\"dataframe\">\n",
       "  <thead>\n",
       "    <tr style=\"text-align: right;\">\n",
       "      <th></th>\n",
       "      <th>Open</th>\n",
       "      <th>High</th>\n",
       "      <th>Low</th>\n",
       "      <th>Close</th>\n",
       "    </tr>\n",
       "  </thead>\n",
       "  <tbody>\n",
       "    <tr>\n",
       "      <th>2013-04-28</th>\n",
       "      <td>135.30</td>\n",
       "      <td>135.98</td>\n",
       "      <td>132.10</td>\n",
       "      <td>134.21</td>\n",
       "    </tr>\n",
       "    <tr>\n",
       "      <th>2013-04-29</th>\n",
       "      <td>134.44</td>\n",
       "      <td>147.49</td>\n",
       "      <td>134.00</td>\n",
       "      <td>144.54</td>\n",
       "    </tr>\n",
       "    <tr>\n",
       "      <th>2013-04-30</th>\n",
       "      <td>144.00</td>\n",
       "      <td>146.93</td>\n",
       "      <td>134.05</td>\n",
       "      <td>139.00</td>\n",
       "    </tr>\n",
       "  </tbody>\n",
       "</table>\n",
       "</div>"
      ],
      "text/plain": [
       "              Open    High     Low   Close\n",
       "2013-04-28  135.30  135.98  132.10  134.21\n",
       "2013-04-29  134.44  147.49  134.00  144.54\n",
       "2013-04-30  144.00  146.93  134.05  139.00"
      ]
     },
     "execution_count": 27,
     "metadata": {},
     "output_type": "execute_result"
    }
   ],
   "source": [
    "print(mkt_data.head(5))\n",
    "print(len(mkt_data))\n",
    "\n",
    "#quotes = mkt_data.loc[:20,:3]\n",
    "\n",
    "mkt_data.iloc[0:3,:4]"
   ]
  },
  {
   "cell_type": "code",
   "execution_count": 40,
   "metadata": {
    "collapsed": false
   },
   "outputs": [],
   "source": [
    "class GraphCandlestick2(object):\n",
    "\n",
    "    def graph_data(self,p_df_ohlc):\n",
    "#         print(\"DF_OHLC .. before reset index\"); print(p_df_ohlc.head(5))\n",
    "        #Reset the index to remove Date column from index\n",
    "        #df_ohlc = p_df_ohlc.reset_index()\n",
    "        df_ohlc = p_df_ohlc\n",
    "#         print(\"DF_OHLC .. after reset index\"); print(df_ohlc.head(5))\n",
    "        \n",
    "        #Naming columns\n",
    "        df_ohlc.columns = [\"Open\",\"High\",'Low',\"Close\"]\n",
    "        \n",
    "        #Converting dates column to float values\n",
    "        df_ohlc['Date'] = df_ohlc.index\n",
    "        df_ohlc['Date'] = df_ohlc['Date'].map(mdates.date2num)\n",
    "        \n",
    "        #Making plot\n",
    "        fig = plt.figure()\n",
    "        ax1 = plt.subplot2grid((6,1), (0,0), rowspan=6, colspan=1)\n",
    "        \n",
    "        #Converts raw mdate numbers to dates\n",
    "        ax1.xaxis_date()\n",
    "        ax1.xaxis.set_major_formatter(mdates.DateFormatter('%m-%d'))\n",
    "        plt.xlabel(\"Date\")\n",
    "        print(\"DF_OHLC .. after date2num in graph_data\"); print(df_ohlc.head(5))\n",
    "        \n",
    "        #Making candlestick plot\n",
    "        candlestick_ohlc(ax1,df_ohlc.values,width=1, colorup='g', colordown='k',alpha=0.75)\n",
    "        plt.ylabel(\"Price\")\n",
    "        plt.legend()\n",
    "        \n",
    "#         fig.autofmt_xdate() #??\n",
    "        plt.close('all')\n",
    "        print(\"Mike - about to plt.show\")\n",
    "        plt.show()"
   ]
  },
  {
   "cell_type": "code",
   "execution_count": 41,
   "metadata": {
    "collapsed": false
   },
   "outputs": [
    {
     "name": "stdout",
     "output_type": "stream",
     "text": [
      "              Open    High     Low   Close\n",
      "2013-04-28  135.30  135.98  132.10  134.21\n",
      "2013-04-29  134.44  147.49  134.00  144.54\n",
      "2013-04-30  144.00  146.93  134.05  139.00\n",
      "2013-05-01  139.00  139.89  107.72  116.99\n",
      "2013-05-02  116.38  125.60   92.28  105.21\n",
      "DF_OHLC .. after date2num in graph_data\n",
      "              Open    High     Low   Close      Date\n",
      "2013-04-28  135.30  135.98  132.10  134.21  734986.0\n",
      "2013-04-29  134.44  147.49  134.00  144.54  734987.0\n",
      "2013-04-30  144.00  146.93  134.05  139.00  734988.0\n",
      "2013-05-01  139.00  139.89  107.72  116.99  734989.0\n",
      "2013-05-02  116.38  125.60   92.28  105.21  734990.0\n",
      "Mike - about to plt.show\n",
      "plotted\n"
     ]
    },
    {
     "name": "stderr",
     "output_type": "stream",
     "text": [
      "/Users/michaelnew/anaconda/lib/python3.5/site-packages/matplotlib/axes/_axes.py:531: UserWarning: No labelled objects found. Use label='...' kwarg on individual plots.\n",
      "  warnings.warn(\"No labelled objects found. \"\n"
     ]
    },
    {
     "data": {
      "image/png": "[encoded data removed]",
      "text/plain": [
       "<matplotlib.figure.Figure at 0x1154c87b8>"
      ]
     },
     "metadata": {},
     "output_type": "display_data"
    },
    {
     "name": "stdout",
     "output_type": "stream",
     "text": [
      "again\n"
     ]
    }
   ],
   "source": [
    "    graph = GraphCandlestick2()\n",
    "    quotes = mkt_data.iloc[0:20,0:4]  \n",
    "    #quotes.set_index('Date',inplace=True)  \n",
    "    print(quotes.head(5))\n",
    "    graph.graph_data(quotes)\n",
    "    print(\"plotted\")\n",
    "    data = [1,1,2,3,5,8,13,21,34]\n",
    "\n",
    "plt.figure\n",
    "plt.title('Should be a OHLC graph above this', size = 'xx-large')\n",
    "plt.plot(data)\n",
    "plt.show()\n",
    "print(\"again\")"
   ]
  },
  {
   "cell_type": "code",
   "execution_count": 43,
   "metadata": {
    "collapsed": false
   },
   "outputs": [
    {
     "data": {
      "text/plain": [
       "'module://ipykernel.pylab.backend_inline'"
      ]
     },
     "execution_count": 43,
     "metadata": {},
     "output_type": "execute_result"
    }
   ],
   "source": [
    "import matplotlib\n",
    "matplotlib.get_backend()"
   ]
  },
  {
   "cell_type": "code",
   "execution_count": 44,
   "metadata": {
    "collapsed": false
   },
   "outputs": [
    {
     "name": "stdout",
     "output_type": "stream",
     "text": [
      "module://ipykernel.pylab.backend_inline\n"
     ]
    }
   ],
   "source": [
    "print (matplotlib.rcParams['backend']) \n"
   ]
  },
  {
   "cell_type": "code",
   "execution_count": null,
   "metadata": {
    "collapsed": true
   },
   "outputs": [],
   "source": []
  }
 ],
 "metadata": {
  "anaconda-cloud": {},
  "kernelspec": {
   "display_name": "Python [conda root]",
   "language": "python",
   "name": "conda-root-py"
  },
  "language_info": {
   "codemirror_mode": {
    "name": "ipython",
    "version": 3
   },
   "file_extension": ".py",
   "mimetype": "text/x-python",
   "name": "python",
   "nbconvert_exporter": "python",
   "pygments_lexer": "ipython3",
   "version": "3.5.2"
  }
 },
 "nbformat": 4,
 "nbformat_minor": 1
}
