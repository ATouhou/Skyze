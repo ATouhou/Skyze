{
 "cells": [
  {
   "cell_type": "code",
   "execution_count": 8,
   "metadata": {
    "collapsed": true
   },
   "outputs": [],
   "source": [
    "import os\n",
    "import sys\n",
    "import pandas as pd\n",
    "\n",
    "import os,sys,inspect\n",
    "currentdir = os.path.dirname(os.path.abspath(inspect.getfile(inspect.currentframe())))\n",
    "parentdir = os.path.dirname(currentdir)\n",
    "sys.path.insert(0,parentdir) \n",
    "\n",
    "import settings\n",
    "\n",
    "file_path = os.path.join(settings.testing_file_path, \"%s.csv\" % \"bitcoin_TEST\")\n",
    "df = pd.read_csv(\n",
    "                        file_path, \n",
    "                        header=None ,\n",
    "                        names = [\n",
    "                                  \"Date\", \"Open\", \"High\", \"Low\",\n",
    "                                  \"Close\", \"Volume\", \"MarketCap\",\"HLOrder\"\n",
    "                                ],\n",
    "                        index_col = \"Date\"\n",
    "                        )"
   ]
  },
  {
   "cell_type": "raw",
   "metadata": {},
   "source": [
    "print(settings.intervals)"
   ]
  },
  {
   "cell_type": "code",
   "execution_count": null,
   "metadata": {
    "collapsed": true
   },
   "outputs": [],
   "source": []
  },
  {
   "cell_type": "code",
   "execution_count": null,
   "metadata": {
    "collapsed": true
   },
   "outputs": [],
   "source": []
  }
 ],
 "metadata": {
  "anaconda-cloud": {},
  "kernelspec": {
   "display_name": "Python [conda root]",
   "language": "python",
   "name": "conda-root-py"
  },
  "language_info": {
   "codemirror_mode": {
    "name": "ipython",
    "version": 3
   },
   "file_extension": ".py",
   "mimetype": "text/x-python",
   "name": "python",
   "nbconvert_exporter": "python",
   "pygments_lexer": "ipython3",
   "version": "3.5.2"
  }
 },
 "nbformat": 4,
 "nbformat_minor": 1
}
