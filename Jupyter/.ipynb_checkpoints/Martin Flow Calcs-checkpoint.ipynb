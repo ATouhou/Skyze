{
 "cells": [
  {
   "cell_type": "markdown",
   "metadata": {},
   "source": [
    "# Martin Flow Calculations\n"
   ]
  },
  {
   "cell_type": "markdown",
   "metadata": {},
   "source": [
    "## Parameters"
   ]
  },
  {
   "cell_type": "code",
   "execution_count": null,
   "metadata": {
    "collapsed": false
   },
   "outputs": [],
   "source": [
    "volume = 400                    # litres\n",
    "circulation = 100               # litres/minute\n",
    "fibre_av_length_start = 10      # millimeters\n",
    "fibre_av_length_finish = 0.1    # mm\n",
    "cycles_to_process = 20          # Cycles to go from av start to end fibre length\n",
    "\n",
    "time_one_cycle = volume / circulation                    # minutes ... circulate the entire volume\n",
    "time_one_process = cycles_to_process * time_one_cycle    # minutes ... process to get target av fibre length\n",
    "\n",
    "# Content flow\n",
    "flow_in  = 2      # litres / minute\n",
    "flow_out = 2      # litres / minute\n",
    "\n",
    "# Stabilsation\n",
    "stabilisation_factor = .0001   # if the av length change between cycles is < .01% then stabilasation has occurred\n",
    "\n",
    "print(\"One cycle takes:   \"+str(time_one_cycle)+\" minutes\")\n",
    "print(\"One process takes: \"+str(time_one_process)+\" minutes\")"
   ]
  },
  {
   "cell_type": "markdown",
   "metadata": {},
   "source": [
    "## Change in Fibre Lengths\n",
    "### Start with full volume no adding or removing of contents"
   ]
  },
  {
   "cell_type": "code",
   "execution_count": null,
   "metadata": {
    "collapsed": false
   },
   "outputs": [],
   "source": [
    "# Assume average fibre length change per circulation is linear\n",
    "\n",
    "delta_fibre_length_cycle  = 1 / cycles_to_process\n",
    "delta_fibre_length_minute = 1 / time_one_process\n",
    "\n",
    "print(\"delta_fibre_length_cycle:   \"+str(delta_fibre_length_cycle)+\" %\")\n",
    "print(\"delta_fibre_length_minute: \"+str(delta_fibre_length_minute)+\" %\")"
   ]
  },
  {
   "cell_type": "code",
   "execution_count": null,
   "metadata": {
    "collapsed": false
   },
   "outputs": [],
   "source": [
    "\n",
    "import matplotlib.pyplot as plt\n",
    "\n",
    "data = []\n",
    "i = fibre_av_length_start\n",
    "while i >= fibre_av_length_finish:\n",
    "    data.append(i)\n",
    "    i -= fibre_av_length_start*delta_fibre_length_cycle\n",
    "\n",
    "plt.figure\n",
    "plt.title('Change in Fibre Length (%) over time', size = 'large')\n",
    "plt.xlabel(\"Cycles\")\n",
    "plt.ylabel(\"Av Fibre Length (mm)\")\n",
    "plt.plot(data)\n",
    "plt.show()\n",
    "\n",
    "print(\"\\n\\nData Points: \" + str(data))"
   ]
  },
  {
   "cell_type": "markdown",
   "metadata": {},
   "source": [
    "##  Run for full processing cycle THEN start content flow\n",
    "Start with full volume for full processing cycle so that the target average length has been reached\\n\n",
    "THEN start the content flow"
   ]
  },
  {
   "cell_type": "code",
   "execution_count": null,
   "metadata": {
    "collapsed": false
   },
   "outputs": [],
   "source": [
    "start_volume = volume\n",
    "start_av_length = fibre_av_length_finish #fibre_av_length_start\n",
    "prev_av_length = start_av_length\n",
    "print(start_av_length)\n",
    "data = [start_av_length]\n",
    "stabilisation_point = 0\n",
    "for i in range(cycles_to_process*8):\n",
    "    new_av_length = ( prev_av_length*(start_volume-flow_out)*(1-delta_fibre_length_cycle)\n",
    "                      + flow_in*fibre_av_length_start) / volume\n",
    "    # check if equilibrium has been reached\n",
    "    if (prev_av_length-new_av_length)/prev_av_length < stabilisation_factor:\n",
    "        stabilisation_point = i\n",
    "       # break\n",
    "    \n",
    "    # remember length for next iteration\n",
    "    prev_av_length = new_av_length\n",
    "    # round it to 4 decimal places\n",
    "    new_av_length = float(\"{0:.6f}\".format(new_av_length))\n",
    "    # add it to the list to graph\n",
    "    data.append(new_av_length)\n",
    "    \n",
    "    \n",
    "# Plot it\n",
    "plt.figure\n",
    "plt.title('Change in Average Fibre Length over time (cycles)', size = 'large')\n",
    "plt.xlabel(\"Cycles\")\n",
    "plt.ylabel(\"Av Fibre Length (mm)\")\n",
    "plt.plot(data)\n",
    "plt.show()\n",
    "\n",
    "print(\"=== SUMMARY ================== \")\n",
    "print(\"Length stabilisation occurs at cycle: \"+str(stabilisation_point)+\" ... after \"+str(stabilisation_point*time_one_cycle)+\" minutes.\")\n",
    "print(\"with averagle length of: \"+str(float(\"{0:.4f}\".format(prev_av_length))))\n",
    "print(\"\\n\\nData Points: \" + str(data))"
   ]
  },
  {
   "cell_type": "markdown",
   "metadata": {},
   "source": [
    "##  Run with content flow\n",
    "Start with full volume with the content flow started from the beginning"
   ]
  },
  {
   "cell_type": "code",
   "execution_count": null,
   "metadata": {
    "collapsed": false
   },
   "outputs": [
    {
     "name": "stdout",
     "output_type": "stream",
     "text": [
      "10\n"
     ]
    }
   ],
   "source": [
    "start_volume = volume\n",
    "start_av_length = fibre_av_length_start\n",
    "prev_av_length = start_av_length\n",
    "print(start_av_length)\n",
    "data = [start_av_length]\n",
    "stabilisation_point = 0\n",
    "while prev_av_length > fibre_av_length_finish:\n",
    "    new_av_length = ( prev_av_length*(start_volume-flow_out)*(1-delta_fibre_length_cycle)\n",
    "                      + flow_in*fibre_av_length_start) / volume\n",
    "    \n",
    "    # remember length for next iteration\n",
    "    prev_av_length = new_av_length\n",
    "    # round it to 4 decimal places\n",
    "    new_av_length = float(\"{0:.6f}\".format(new_av_length))\n",
    "    # add it to the list to graph\n",
    "    data.append(new_av_length)\n",
    "    \n",
    "    \n",
    "# Plot it\n",
    "plt.figure\n",
    "plt.title('Change in Average Fibre Length over time (cycles)', size = 'large')\n",
    "plt.xlabel(\"Cycles\")\n",
    "plt.ylabel(\"Av Fibre Length (mm)\")\n",
    "plt.plot(data)\n",
    "plt.show()\n",
    "\n",
    "print(\"=== SUMMARY ================== \")\n",
    "print(\"Length stabilisation occurs at cycle: \"+str(stabilisation_point)+\" ... after \"+str(stabilisation_point*time_one_cycle)+\" minutes.\")\n",
    "print(\"with averagle length of: \"+str(float(\"{0:.4f}\".format(prev_av_length))))\n",
    "print(\"Stabilisation is when change between cycles < \"+str(stabilisation_factor))\n",
    "print(\"\\n\\nData Points: \" + str(data))"
   ]
  },
  {
   "cell_type": "code",
   "execution_count": null,
   "metadata": {
    "collapsed": true
   },
   "outputs": [],
   "source": []
  }
 ],
 "metadata": {
  "anaconda-cloud": {},
  "kernelspec": {
   "display_name": "Python [conda root]",
   "language": "python",
   "name": "conda-root-py"
  },
  "language_info": {
   "codemirror_mode": {
    "name": "ipython",
    "version": 3
   },
   "file_extension": ".py",
   "mimetype": "text/x-python",
   "name": "python",
   "nbconvert_exporter": "python",
   "pygments_lexer": "ipython3",
   "version": "3.5.2"
  }
 },
 "nbformat": 4,
 "nbformat_minor": 1
}
