{
 "cells": [
  {
   "cell_type": "markdown",
   "metadata": {},
   "source": [
    "# Class member inheritance and change"
   ]
  },
  {
   "cell_type": "code",
   "execution_count": 2,
   "metadata": {
    "collapsed": false
   },
   "outputs": [],
   "source": [
    "class Parent():\n",
    "    def __init__(self, p_a, p_b):\n",
    "        self.a = p_a\n",
    "        self.b = p_b\n",
    "        \n",
    "    def toPrint(self):\n",
    "        print ( \"Parent::  a:\"+str(self.a)+\"  b:\"+str(self.b))\n",
    "        \n",
    "\n",
    "        class Child1():\n",
    "    def __init__(self, p_a, p_b):\n",
    "        a1 = 5\n",
    "        b1 = 45\n",
    "        super().__init__( a, b )\n",
    "        \n",
    "    def toPrint(self):\n",
    "        print ( \"Child1::  a:\"+str(self.a)+\"  b:\"+str(self.b))"
   ]
  },
  {
   "cell_type": "code",
   "execution_count": null,
   "metadata": {
    "collapsed": true
   },
   "outputs": [],
   "source": []
  }
 ],
 "metadata": {
  "anaconda-cloud": {},
  "kernelspec": {
   "display_name": "Python [conda root]",
   "language": "python",
   "name": "conda-root-py"
  },
  "language_info": {
   "codemirror_mode": {
    "name": "ipython",
    "version": 3
   },
   "file_extension": ".py",
   "mimetype": "text/x-python",
   "name": "python",
   "nbconvert_exporter": "python",
   "pygments_lexer": "ipython3",
   "version": "3.5.2"
  }
 },
 "nbformat": 4,
 "nbformat_minor": 1
}
