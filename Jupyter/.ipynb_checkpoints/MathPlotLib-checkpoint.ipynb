{
 "cells": [
  {
   "cell_type": "markdown",
   "metadata": {},
   "source": [
    "# Attempt 1"
   ]
  },
  {
   "cell_type": "code",
   "execution_count": 4,
   "metadata": {},
   "outputs": [
    {
     "ename": "ValueError",
     "evalue": "attempted relative import beyond top-level package",
     "output_type": "error",
     "traceback": [
      "\u001b[0;31m---------------------------------------------------------------------------\u001b[0m",
      "\u001b[0;31mValueError\u001b[0m                                Traceback (most recent call last)",
      "\u001b[0;32m<ipython-input-4-b1a8c4b9a3b9>\u001b[0m in \u001b[0;36m<module>\u001b[0;34m()\u001b[0m\n\u001b[1;32m      9\u001b[0m \u001b[0;31m#%matplotlib inline\u001b[0m\u001b[0;34m\u001b[0m\u001b[0;34m\u001b[0m\u001b[0m\n\u001b[1;32m     10\u001b[0m \u001b[0;34m\u001b[0m\u001b[0m\n\u001b[0;32m---> 11\u001b[0;31m \u001b[0;32mfrom\u001b[0m \u001b[0;34m.\u001b[0m\u001b[0;34m.\u001b[0m\u001b[0mMarket\u001b[0m \u001b[0;32mimport\u001b[0m \u001b[0mMarket\u001b[0m\u001b[0;34m\u001b[0m\u001b[0m\n\u001b[0m\u001b[1;32m     12\u001b[0m \u001b[0mmkt_name\u001b[0m \u001b[0;34m=\u001b[0m \u001b[0;34m\"Bitcoin_Test\"\u001b[0m\u001b[0;34m\u001b[0m\u001b[0m\n\u001b[1;32m     13\u001b[0m \u001b[0mmkt\u001b[0m \u001b[0;34m=\u001b[0m \u001b[0mMarket\u001b[0m\u001b[0;34m.\u001b[0m\u001b[0mfromTesting\u001b[0m\u001b[0;34m(\u001b[0m\u001b[0mmkt_name\u001b[0m\u001b[0;34m)\u001b[0m\u001b[0;34m\u001b[0m\u001b[0m\n",
      "\u001b[0;31mValueError\u001b[0m: attempted relative import beyond top-level package"
     ]
    }
   ],
   "source": [
    "import pandas as pd\n",
    "import numpy as np\n",
    "import datetime as dt\n",
    "\n",
    "import matplotlib.pyplot as plt\n",
    "import matplotlib.ticker as mticker\n",
    "from matplotlib.finance import candlestick_ohlc\n",
    "import matplotlib.dates as mdates\n",
    "#%matplotlib inline \n",
    "\n",
    "from Market import Market\n",
    "mkt_name = \"Bitcoin_Test\"\n",
    "mkt = Market.fromTesting(mkt_name)\n",
    "mkt_data = mkt.readMarketDataCSV()"
   ]
  },
  {
   "cell_type": "code",
   "execution_count": 2,
   "metadata": {},
   "outputs": [],
   "source": [
    "class GraphCandlestick2(object):\n",
    "\n",
    "    def graph_data(self,p_df_ohlc):\n",
    "#         print(\"DF_OHLC .. before reset index\"); print(p_df_ohlc.head(5))\n",
    "        #Reset the index to remove Date column from index\n",
    "        #df_ohlc = p_df_ohlc.reset_index()\n",
    "        df_ohlc = p_df_ohlc\n",
    "#         print(\"DF_OHLC .. after reset index\"); print(df_ohlc.head(5))\n",
    "        \n",
    "        #Naming columns\n",
    "        df_ohlc.columns = [\"Date\",\"Open\",\"High\",'Low',\"Close\"]\n",
    "        \n",
    "        #Converting dates column to float values\n",
    "        df_ohlc['Date'] = df_ohlc['Date'].map(mdates.date2num)\n",
    "        \n",
    "        #Making plot\n",
    "        fig = plt.figure()\n",
    "        ax1 = plt.subplot2grid((6,1), (0,0), rowspan=6, colspan=1)\n",
    "        \n",
    "        #Converts raw mdate numbers to dates\n",
    "        ax1.xaxis_date()\n",
    "        ax1.xaxis.set_major_formatter(mdates.DateFormatter('%m-%d'))\n",
    "        plt.xlabel(\"Date\")\n",
    "        print(\"DF_OHLC .. after date2num in graph_data\"); print(df_ohlc.head(5))\n",
    "        \n",
    "        #Making candlestick plot\n",
    "        candlestick_ohlc(ax1,df_ohlc.values,width=1, colorup='g', colordown='k',alpha=0.75)\n",
    "        plt.ylabel(\"Price\")\n",
    "        plt.legend()\n",
    "        \n",
    "#         fig.autofmt_xdate() #??\n",
    "        plt.close('all')\n",
    "        print(\"Mike - about to plt.show\")\n",
    "        plt.show()"
   ]
  },
  {
   "cell_type": "code",
   "execution_count": 3,
   "metadata": {},
   "outputs": [
    {
     "ename": "NameError",
     "evalue": "name 'mkt_data' is not defined",
     "output_type": "error",
     "traceback": [
      "\u001b[0;31m---------------------------------------------------------------------------\u001b[0m",
      "\u001b[0;31mNameError\u001b[0m                                 Traceback (most recent call last)",
      "\u001b[0;32m<ipython-input-3-f5f20058d2d4>\u001b[0m in \u001b[0;36m<module>\u001b[0;34m()\u001b[0m\n\u001b[1;32m      1\u001b[0m \u001b[0mgraph\u001b[0m \u001b[0;34m=\u001b[0m \u001b[0mGraphCandlestick2\u001b[0m\u001b[0;34m(\u001b[0m\u001b[0;34m)\u001b[0m\u001b[0;34m\u001b[0m\u001b[0m\n\u001b[0;32m----> 2\u001b[0;31m \u001b[0mquotes\u001b[0m \u001b[0;34m=\u001b[0m \u001b[0mmkt_data\u001b[0m\u001b[0;34m.\u001b[0m\u001b[0mloc\u001b[0m\u001b[0;34m[\u001b[0m\u001b[0;34m:\u001b[0m\u001b[0;36m20\u001b[0m\u001b[0;34m,\u001b[0m\u001b[0;34m\"Date\"\u001b[0m\u001b[0;34m:\u001b[0m\u001b[0;34m\"Close\"\u001b[0m\u001b[0;34m]\u001b[0m\u001b[0;34m\u001b[0m\u001b[0m\n\u001b[0m\u001b[1;32m      3\u001b[0m \u001b[0;31m#quotes.set_index('Date',inplace=True)\u001b[0m\u001b[0;34m\u001b[0m\u001b[0;34m\u001b[0m\u001b[0m\n\u001b[1;32m      4\u001b[0m \u001b[0mprint\u001b[0m\u001b[0;34m(\u001b[0m\u001b[0mquotes\u001b[0m\u001b[0;34m.\u001b[0m\u001b[0mhead\u001b[0m\u001b[0;34m(\u001b[0m\u001b[0;36m5\u001b[0m\u001b[0;34m)\u001b[0m\u001b[0;34m)\u001b[0m\u001b[0;34m\u001b[0m\u001b[0m\n\u001b[1;32m      5\u001b[0m \u001b[0mgraph\u001b[0m\u001b[0;34m.\u001b[0m\u001b[0mgraph_data\u001b[0m\u001b[0;34m(\u001b[0m\u001b[0mquotes\u001b[0m\u001b[0;34m)\u001b[0m\u001b[0;34m\u001b[0m\u001b[0m\n",
      "\u001b[0;31mNameError\u001b[0m: name 'mkt_data' is not defined"
     ]
    }
   ],
   "source": [
    "    graph = GraphCandlestick2()\n",
    "    quotes = mkt_data.loc[:20,\"Date\":\"Close\"]  \n",
    "    #quotes.set_index('Date',inplace=True)  \n",
    "    print(quotes.head(5))\n",
    "    graph.graph_data(quotes)\n",
    "    print(\"plotted\")\n",
    "    data = [1,1,2,3,5,8,13,21,34]\n",
    "\n",
    "plt.figure\n",
    "plt.title('Should be a OHLC graph above this', size = 'xx-large')\n",
    "plt.plot(data)\n",
    "plt.show()\n",
    "print(\"again\")"
   ]
  },
  {
   "cell_type": "markdown",
   "metadata": {
    "collapsed": true
   },
   "source": [
    "# Attempt 2"
   ]
  },
  {
   "cell_type": "code",
   "execution_count": null,
   "metadata": {},
   "outputs": [],
   "source": [
    "from matplotlib.finance import candlestick2_ohlc\n",
    "import matplotlib.pyplot as plt\n",
    "import matplotlib.ticker as ticker\n",
    "import datetime as datetime\n",
    "import numpy as np\n",
    "\n",
    "quotes = np.array(...)\n",
    "\n",
    "fig, ax = plt.subplots()\n",
    "candlestick2_ohlc(ax,quotes['open'],quotes['high'],quotes['low'],quotes['close'],width=0.6)\n",
    "\n",
    "xdate = [datetime.datetime.fromtimestamp(i) for i in quotes['time']]\n",
    "\n",
    "ax.xaxis.set_major_locator(ticker.MaxNLocator(6))\n",
    "\n",
    "def mydate(x,pos):\n",
    "    try:\n",
    "        return xdate[int(x)]\n",
    "    except IndexError:\n",
    "        return ''\n",
    "\n",
    "ax.xaxis.set_major_formatter(ticker.FuncFormatter(mydate))\n",
    "\n",
    "fig.autofmt_xdate()\n",
    "fig.tight_layout()\n",
    "\n",
    "plt.show()"
   ]
  },
  {
   "cell_type": "code",
   "execution_count": null,
   "metadata": {},
   "outputs": [],
   "source": []
  }
 ],
 "metadata": {
  "anaconda-cloud": {},
  "kernelspec": {
   "display_name": "Python 3",
   "language": "python",
   "name": "python3"
  },
  "language_info": {
   "codemirror_mode": {
    "name": "ipython",
    "version": 3
   },
   "file_extension": ".py",
   "mimetype": "text/x-python",
   "name": "python",
   "nbconvert_exporter": "python",
   "pygments_lexer": "ipython3",
   "version": "3.6.2"
  }
 },
 "nbformat": 4,
 "nbformat_minor": 1
}
