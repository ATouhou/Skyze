{
 "cells": [
  {
   "cell_type": "markdown",
   "metadata": {},
   "source": [
    "# CMC Scraping Historical Data\n",
    "## Working Code"
   ]
  },
  {
   "cell_type": "code",
   "execution_count": 16,
   "metadata": {
    "collapsed": true
   },
   "outputs": [],
   "source": [
    "import pandas as pd\n",
    "import numpy as np\n",
    "\n",
    "import os\n",
    "#import time\n",
    "#from datetime import datetime\n",
    "\n",
    "import settings\n",
    "\n",
    "from pprint import pprint\n",
    "import re\n",
    "import csv\n",
    "\n",
    "import datetime\n",
    "\n",
    "# import webscraping libraries\n",
    "import urllib.request as urllibReq\n",
    "from bs4 import BeautifulSoup\n",
    "\n",
    "#markets = [\"AseanCoin\",\"InsureX\",\"Mothership\",\"People_Coin\",\"Birds\",\"Blakestar\",\"Cream\",\"GeyserCoin\",\"0x\"]\n",
    "# markets = [\"ATMCoin\",\"Dochain\",\"Nebulas-Token\",\"XTD-Coin\",\"Frazcoin\",\"TrueFlip\",\"VeChain\",\"Hshare\",\n",
    "#             \"MyBit-Token\",\"Krypstal\",\"Growers-International\",\"YOYOW\",\"Smoke\",\"Bolenum\",\"0x\",\n",
    "#             \"Health-Care-Chain\",\"The-ChampCoin\",\"Excelcoin\",\"Timereum\",\"Sojourn\",\"Etheriya\",\n",
    "#             \"CoinonatX\",\"InvestFeed\",\"Monster-Byte\",\"Dent\",\"BitAsean\",\"Digital-Developers-Fund\",\n",
    "#             \"AdShares\",\"BlockCAT\",\"DeepOnion\",\"InfChain\",\"AppleCoin\",\"Shadow-Token\",\"Rupaya\",\n",
    "#             \"Dentacoin\",\"Nexxus\",\"Stakecoin\",\"Blocktix\",\"NEVERDIE\",\"First-Bitcoin-Capital\",\n",
    "#             \"Rustbits\",\"Mao-Zedong\",\"IOU1\",\"Centra\",\"Bytom\",\"Wink\",\"CoinDash\",\"Minex\",\"Etherx\",\n",
    "#             \"Stox\",\"HBCoin\",\"Fuda-Energy\",\"FiboCoins\",\"FundYourselfNow\",\"district0x\",\"Compcoin\",\n",
    "#             \"OpenAnx\",\"KekCoin\",\"BlakeStar\",\"Cream\",\"Birds\",\"Aseancoin\",\"Mothership\",\"GeyserCoin\",\n",
    "#             \"InsureX\",\"PeopleCoin\",\"EmberCoin\",\"CampusCoin\",\"Primalbase\"]\n",
    "markets = [\"Bitcoin\"]\n",
    "markets.sort()\n",
    "\n"
   ]
  },
  {
   "cell_type": "code",
   "execution_count": 20,
   "metadata": {},
   "outputs": [
    {
     "name": "stdout",
     "output_type": "stream",
     "text": [
      "\n",
      "=== List of Markets =====\n",
      "0         bitcoin\n",
      "1        ethereum\n",
      "2    bitcoin-cash\n",
      "Name: id, dtype: object\n"
     ]
    }
   ],
   "source": [
    "### Let's get the markets from CMC\n",
    "\n",
    "import requests\n",
    "import json\n",
    "\n",
    "# Get the URL JSON\n",
    "# request=requests.get(url='https://api.coinmarketcap.com/v1/ticker/')\n",
    "request=requests.get(url='https://api.coinmarketcap.com/v1/ticker/?limit=3')\n",
    "\n",
    "# convert to DataFrame\n",
    "df = pd.DataFrame(request.json())\n",
    "#print(df)\n",
    "\n",
    "# get the list of markets\n",
    "print()\n",
    "print(\"=== List of Markets =====\")\n",
    "markets = df[\"id\"]\n",
    "print(df[\"id\"])"
   ]
  },
  {
   "cell_type": "code",
   "execution_count": 32,
   "metadata": {},
   "outputs": [
    {
     "name": "stdout",
     "output_type": "stream",
     "text": [
      "bitcoin\n",
      "from: 20170727 . to:  20170828\n",
      "https://coinmarketcap.com/assets/bitcoin/historical-data/?start=20170727&end=20170828\n"
     ]
    }
   ],
   "source": [
    "markets = [\"bitcoin\"]\n",
    "for market in markets:\n",
    "    print (market)\n",
    "    # . https://coinmarketcap.com/assets/0x/historical-data/?start=20100101&end=20170826\n",
    "    todayDate = datetime.date.today().strftime('%Y%m%d')\n",
    "    startDate = \"20170727\"\n",
    "    marketStr = re.sub(\" \", \"-\", market)\n",
    "    scrape_page = \"https://coinmarketcap.com/assets/%(mkt)s/historical-data/?start=%(startDate)s&end=%(endDate)s\" % {\"mkt\":marketStr, \"startDate\":startDate, \"endDate\":todayDate}\n",
    "        \n",
    "    # query the website and return the html to the variable ‘page’\n",
    "    page = urllibReq.urlopen(scrape_page)\n",
    "\n",
    "    print(\"from: %(start)s . to:  %(end)s\" % {\"start\":startDate,\"end\":todayDate})\n",
    "    print(scrape_page)\n",
    "    \n",
    "    # parse the html using beautiful soap and store in variable `soup`\n",
    "    soup = BeautifulSoup(page, 'html.parser')\n",
    "    # soup = BeautifulSoup(page, ‘lxml’)\n",
    "\n",
    "    # Take out the <div> of name and get its value\n",
    "    name_box = soup.find('h1', attrs={'class': 'name'})\n",
    "\n",
    "\n",
    "    result = []\n",
    "    allrows = soup.findAll('tr')\n",
    "    for row in allrows:\n",
    "        result.append([])\n",
    "        allcols = row.findAll('td')\n",
    "        for col in allcols:\n",
    "          thestrings = col.findAll(text=True) \n",
    "          a = re.sub('[,]', '', thestrings[0])\n",
    "          result[-1].append(a)\n",
    "\n",
    "    result.pop(0)\n",
    "    \n",
    "    file_path = os.path.join(settings.data_file_path, \"%s.csv\" % market)\n",
    "    with open(file_path, 'w') as myfile:\n",
    "        wr = csv.writer(myfile)\n",
    "        wr.writerows(result)"
   ]
  },
  {
   "cell_type": "code",
   "execution_count": 3,
   "metadata": {},
   "outputs": [
    {
     "name": "stdout",
     "output_type": "stream",
     "text": [
      "20170827\n"
     ]
    }
   ],
   "source": [
    "import datetime\n",
    "print(datetime.date.today().strftime('%Y%m%d'))"
   ]
  },
  {
   "cell_type": "code",
   "execution_count": 22,
   "metadata": {},
   "outputs": [
    {
     "name": "stdout",
     "output_type": "stream",
     "text": [
      "<class 'list'>\n"
     ]
    }
   ],
   "source": [
    "print(type([\"asdf\"]))"
   ]
  },
  {
   "cell_type": "code",
   "execution_count": null,
   "metadata": {
    "collapsed": true
   },
   "outputs": [],
   "source": []
  }
 ],
 "metadata": {
  "kernelspec": {
   "display_name": "Python 3",
   "language": "python",
   "name": "python3"
  },
  "language_info": {
   "codemirror_mode": {
    "name": "ipython",
    "version": 3
   },
   "file_extension": ".py",
   "mimetype": "text/x-python",
   "name": "python",
   "nbconvert_exporter": "python",
   "pygments_lexer": "ipython3",
   "version": "3.6.2"
  }
 },
 "nbformat": 4,
 "nbformat_minor": 2
}
