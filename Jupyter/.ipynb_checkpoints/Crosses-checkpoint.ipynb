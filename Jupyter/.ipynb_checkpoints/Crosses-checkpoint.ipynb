{
 "cells": [
  {
   "cell_type": "code",
   "execution_count": 96,
   "metadata": {
    "collapsed": false
   },
   "outputs": [
    {
     "name": "stdout",
     "output_type": "stream",
     "text": [
      "     A    B\n",
      "0  NaN  0.0\n",
      "1  1.0  NaN\n",
      "2  2.0  3.0\n",
      "3  3.0  1.0\n",
      "4  4.0  1.0\n",
      "5  5.0  6.0\n"
     ]
    }
   ],
   "source": [
    "import pandas as pd\n",
    "import numpy as np\n",
    "\n",
    "df = pd.DataFrame({\"A\":[np.NaN,1,2,3,4,5], \"B\":[0,np.NaN,3,1,1,6]})\n",
    "df2 = pd.DataFrame({\"A\":[np.NaN,1,2,3,4,5], \"B\":[np.NaN,1,2,3,4,5]})\n",
    "df3 = pd.DataFrame({\"A\":[np.NaN,1,2,3,4,5], \"B\":[0,0,0,0,0,0]})\n",
    "df4 = pd.DataFrame({\"A\":[np.NaN,1,2,3,4,5], \"B\":[0,0.5,1.9,3.1,4.1,5.6]})\n",
    "print(df)"
   ]
  },
  {
   "cell_type": "code",
   "execution_count": 97,
   "metadata": {
    "collapsed": false
   },
   "outputs": [
    {
     "data": {
      "text/plain": [
       "1"
      ]
     },
     "execution_count": 97,
     "metadata": {},
     "output_type": "execute_result"
    }
   ],
   "source": [
    "df['diff_1'] = df.A - df.B\n",
    "df['cross_1'] = np.sign(df.diff_1.shift(1))!=np.sign(df.diff_1)\n",
    "df['cross_1'] = np.where(df['diff_1'].isnull(), False, df['cross_1'])\n",
    "df['cross_1'] = np.where(df['diff_1'].shift(1).isnull(), False, df['cross_1'])\n",
    "\n",
    "df2['diff_2'] = df2.A - df2.B\n",
    "df2['cross_2'] = np.sign(df2.diff_2.shift(1))!=np.sign(df2.diff_2)\n",
    "df2['cross_2'] = np.where(df2['diff_2'].isnull(), False, df2['cross_2'])\n",
    "df2['cross_2'] = np.where(df2['diff_2'].shift(1).isnull(), False, df2['cross_2'])\n",
    "\n",
    "df3['diff_3'] = df3.A - df3.B\n",
    "df3['cross_3'] = np.sign(df3.diff_3.shift(1))!=np.sign(df3.diff_3)\n",
    "df3['cross_3'] = np.where(df3['diff_3'].isnull(), False, df3['cross_3'])\n",
    "df3['cross_3'] = np.where(df3['diff_3'].shift(1).isnull(), False, df3['cross_3'])\n",
    "\n",
    "df4['diff_4'] = df4.A - df4.B\n",
    "df4['cross_4'] = np.sign(df4.diff_4.shift(1))!=np.sign(df4.diff_4)\n",
    "df4['cross_4'] = np.where(df4['diff_4'].isnull(), False, df4['cross_4'])\n",
    "df4['cross_4'] = np.where(df4['diff_4'].shift(1).isnull(), False, df4['cross_4'])\n",
    "\n",
    "\n",
    "np.sum(df.cross_1)-1"
   ]
  },
  {
   "cell_type": "code",
   "execution_count": 98,
   "metadata": {
    "collapsed": false
   },
   "outputs": [
    {
     "name": "stdout",
     "output_type": "stream",
     "text": [
      "     A    B  diff_1 cross_1\n",
      "0  NaN  0.0     NaN   False\n",
      "1  1.0  NaN     NaN   False\n",
      "2  2.0  3.0    -1.0   False\n",
      "3  3.0  1.0     2.0    True\n",
      "4  4.0  1.0     3.0   False\n",
      "5  5.0  6.0    -1.0    True\n",
      "     A    B  diff_2 cross_2\n",
      "0  NaN  NaN     NaN   False\n",
      "1  1.0  1.0     0.0   False\n",
      "2  2.0  2.0     0.0   False\n",
      "3  3.0  3.0     0.0   False\n",
      "4  4.0  4.0     0.0   False\n",
      "5  5.0  5.0     0.0   False\n",
      "     A  B  diff_3 cross_3\n",
      "0  NaN  0     NaN   False\n",
      "1  1.0  0     1.0   False\n",
      "2  2.0  0     2.0   False\n",
      "3  3.0  0     3.0   False\n",
      "4  4.0  0     4.0   False\n",
      "5  5.0  0     5.0   False\n",
      "     A    B  diff_4 cross_4\n",
      "0  NaN  0.0     NaN   False\n",
      "1  1.0  0.5     0.5   False\n",
      "2  2.0  1.9     0.1   False\n",
      "3  3.0  3.1    -0.1    True\n",
      "4  4.0  4.1    -0.1   False\n",
      "5  5.0  5.6    -0.6   False\n"
     ]
    }
   ],
   "source": [
    "print(df)\n",
    "print(df2)\n",
    "print(df3)\n",
    "print(df4)\n"
   ]
  },
  {
   "cell_type": "code",
   "execution_count": null,
   "metadata": {
    "collapsed": true
   },
   "outputs": [],
   "source": []
  }
 ],
 "metadata": {
  "kernelspec": {
   "display_name": "Python [conda root]",
   "language": "python",
   "name": "conda-root-py"
  },
  "language_info": {
   "codemirror_mode": {
    "name": "ipython",
    "version": 3
   },
   "file_extension": ".py",
   "mimetype": "text/x-python",
   "name": "python",
   "nbconvert_exporter": "python",
   "pygments_lexer": "ipython3",
   "version": "3.5.2"
  }
 },
 "nbformat": 4,
 "nbformat_minor": 1
}
