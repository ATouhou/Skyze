{
 "cells": [
  {
   "cell_type": "markdown",
   "metadata": {},
   "source": [
    "# Class member inheritance and change"
   ]
  },
  {
   "cell_type": "code",
   "execution_count": 26,
   "metadata": {
    "collapsed": false
   },
   "outputs": [],
   "source": [
    "class Parent():\n",
    "    def __init__(self, p_a, p_b):\n",
    "        self.a = p_a\n",
    "        self.b = p_b\n",
    "        \n",
    "    def toPrint(self):\n",
    "        print ( \"Parent::  a:\"+str(self.a)+\"  b:\"+str(self.b))\n",
    "        \n",
    "\n",
    "class Child1(Parent):\n",
    "    def __init__(self):\n",
    "        a1 = 1111\n",
    "        b1 = 11111111\n",
    "        super().__init__( a1, b1 )\n",
    "\n",
    "    def toPrint(self):\n",
    "        print ( \"Child1::  a:\"+str(self.a)+\"  b:\"+str(self.b))\n",
    "        print (\"a+b = \"+str(self.a+self.b))\n",
    "\n",
    "\n",
    "class Child2(Parent):\n",
    "    def __init__(self ):\n",
    "        a2 = 2222\n",
    "        b2 = 22222222\n",
    "        super().__init__( a2, b2 )"
   ]
  },
  {
   "cell_type": "code",
   "execution_count": 27,
   "metadata": {
    "collapsed": false
   },
   "outputs": [
    {
     "name": "stdout",
     "output_type": "stream",
     "text": [
      "Child1::  a:1111  b:11111111\n",
      "a+b = 11112222\n",
      "Parent::  a:2222  b:22222222\n"
     ]
    }
   ],
   "source": [
    "c1 = Child1()\n",
    "c2 = Child2()\n",
    "c1.toPrint()\n",
    "c2.toPrint()"
   ]
  },
  {
   "cell_type": "markdown",
   "metadata": {
    "collapsed": true
   },
   "source": [
    "# Class contructor overloading\n"
   ]
  },
  {
   "cell_type": "code",
   "execution_count": 4,
   "metadata": {
    "collapsed": true
   },
   "outputs": [],
   "source": [
    "class Market:\n",
    "    def __init__ (self, p_m, p_e, p_i):\n",
    "        self.m = p_m\n",
    "        self.e = p_e\n",
    "        self.i = p_i\n",
    "        \n",
    "    def get(self):\n",
    "        print(self.m,self.e,self.i)\n",
    "        \n",
    "    @classmethod\n",
    "    def fromTesting(self, p_m):\n",
    "        e = \"\"\n",
    "        i = \"\"\n",
    "        return cls(p_m,e,i)"
   ]
  },
  {
   "cell_type": "code",
   "execution_count": 5,
   "metadata": {
    "collapsed": false
   },
   "outputs": [
    {
     "name": "stdout",
     "output_type": "stream",
     "text": [
      "a b c\n"
     ]
    }
   ],
   "source": [
    "m = Market(\"a\",\"b\",\"c\")\n",
    "m.get()"
   ]
  },
  {
   "cell_type": "code",
   "execution_count": 6,
   "metadata": {
    "collapsed": false
   },
   "outputs": [
    {
     "ename": "NameError",
     "evalue": "name 'cls' is not defined",
     "output_type": "error",
     "traceback": [
      "\u001b[0;31m---------------------------------------------------------------------------\u001b[0m",
      "\u001b[0;31mNameError\u001b[0m                                 Traceback (most recent call last)",
      "\u001b[0;32m<ipython-input-6-a247b83707f2>\u001b[0m in \u001b[0;36m<module>\u001b[0;34m()\u001b[0m\n\u001b[0;32m----> 1\u001b[0;31m \u001b[0mn\u001b[0m \u001b[0;34m=\u001b[0m \u001b[0mMarket\u001b[0m\u001b[0;34m.\u001b[0m\u001b[0mfromTesting\u001b[0m\u001b[0;34m(\u001b[0m\u001b[0;34m\"IT WORKS\"\u001b[0m\u001b[0;34m)\u001b[0m\u001b[0;34m\u001b[0m\u001b[0m\n\u001b[0m",
      "\u001b[0;32m<ipython-input-4-1dbd03ca06c6>\u001b[0m in \u001b[0;36mfromTesting\u001b[0;34m(self, p_m)\u001b[0m\n\u001b[1;32m     12\u001b[0m         \u001b[0me\u001b[0m \u001b[0;34m=\u001b[0m \u001b[0;34m\"\"\u001b[0m\u001b[0;34m\u001b[0m\u001b[0m\n\u001b[1;32m     13\u001b[0m         \u001b[0mi\u001b[0m \u001b[0;34m=\u001b[0m \u001b[0;34m\"\"\u001b[0m\u001b[0;34m\u001b[0m\u001b[0m\n\u001b[0;32m---> 14\u001b[0;31m         \u001b[0;32mreturn\u001b[0m \u001b[0mcls\u001b[0m\u001b[0;34m(\u001b[0m\u001b[0mp_m\u001b[0m\u001b[0;34m,\u001b[0m\u001b[0me\u001b[0m\u001b[0;34m,\u001b[0m\u001b[0mi\u001b[0m\u001b[0;34m)\u001b[0m\u001b[0;34m\u001b[0m\u001b[0m\n\u001b[0m",
      "\u001b[0;31mNameError\u001b[0m: name 'cls' is not defined"
     ]
    }
   ],
   "source": [
    "n = Market.fromTesting(\"IT WORKS\")"
   ]
  },
  {
   "cell_type": "code",
   "execution_count": null,
   "metadata": {
    "collapsed": true
   },
   "outputs": [],
   "source": []
  }
 ],
 "metadata": {
  "anaconda-cloud": {},
  "kernelspec": {
   "display_name": "Python [conda root]",
   "language": "python",
   "name": "conda-root-py"
  },
  "language_info": {
   "codemirror_mode": {
    "name": "ipython",
    "version": 3
   },
   "file_extension": ".py",
   "mimetype": "text/x-python",
   "name": "python",
   "nbconvert_exporter": "python",
   "pygments_lexer": "ipython3",
   "version": "3.5.2"
  }
 },
 "nbformat": 4,
 "nbformat_minor": 1
}
