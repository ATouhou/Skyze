{
 "cells": [
  {
   "cell_type": "markdown",
   "metadata": {},
   "source": [
    "# Class member inheritance and change"
   ]
  },
  {
   "cell_type": "code",
   "execution_count": 26,
   "metadata": {
    "collapsed": false
   },
   "outputs": [],
   "source": [
    "class Parent():\n",
    "    def __init__(self, p_a, p_b):\n",
    "        self.a = p_a\n",
    "        self.b = p_b\n",
    "        \n",
    "    def toPrint(self):\n",
    "        print ( \"Parent::  a:\"+str(self.a)+\"  b:\"+str(self.b))\n",
    "        \n",
    "\n",
    "class Child1(Parent):\n",
    "    def __init__(self):\n",
    "        a1 = 1111\n",
    "        b1 = 11111111\n",
    "        super().__init__( a1, b1 )\n",
    "\n",
    "    def toPrint(self):\n",
    "        print ( \"Child1::  a:\"+str(self.a)+\"  b:\"+str(self.b))\n",
    "        print (\"a+b = \"+str(self.a+self.b))\n",
    "\n",
    "\n",
    "class Child2(Parent):\n",
    "    def __init__(self ):\n",
    "        a2 = 2222\n",
    "        b2 = 22222222\n",
    "        super().__init__( a2, b2 )"
   ]
  },
  {
   "cell_type": "code",
   "execution_count": 27,
   "metadata": {
    "collapsed": false
   },
   "outputs": [
    {
     "name": "stdout",
     "output_type": "stream",
     "text": [
      "Child1::  a:1111  b:11111111\n",
      "a+b = 11112222\n",
      "Parent::  a:2222  b:22222222\n"
     ]
    }
   ],
   "source": [
    "c1 = Child1()\n",
    "c2 = Child2()\n",
    "c1.toPrint()\n",
    "c2.toPrint()"
   ]
  },
  {
   "cell_type": "code",
   "execution_count": null,
   "metadata": {
    "collapsed": true
   },
   "outputs": [],
   "source": []
  }
 ],
 "metadata": {
  "anaconda-cloud": {},
  "kernelspec": {
   "display_name": "Python [conda root]",
   "language": "python",
   "name": "conda-root-py"
  },
  "language_info": {
   "codemirror_mode": {
    "name": "ipython",
    "version": 3
   },
   "file_extension": ".py",
   "mimetype": "text/x-python",
   "name": "python",
   "nbconvert_exporter": "python",
   "pygments_lexer": "ipython3",
   "version": "3.5.2"
  }
 },
 "nbformat": 4,
 "nbformat_minor": 1
}
