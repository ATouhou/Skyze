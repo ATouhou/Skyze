{
 "cells": [
  {
   "cell_type": "markdown",
   "metadata": {},
   "source": [
    "# Function Call Overhead\n",
    "https://nyu-cds.github.io/python-performance-tips/04-functions/\n",
    "\n",
    "Function call overhead in Python is relatively high, especially compared with the execution speed of builtin functions. The overhead in Python is mainly due to the dynamic type checking of function arguments that must be performed before and after the function call. This strongly suggests that, where appropriate, functions should handle data aggregation rather than being called on a per element basis."
   ]
  },
  {
   "cell_type": "markdown",
   "metadata": {},
   "source": [
    "__Function called multiple times (Loop calls the function)__"
   ]
  },
  {
   "cell_type": "code",
   "execution_count": 35,
   "metadata": {},
   "outputs": [
    {
     "name": "stdout",
     "output_type": "stream",
     "text": [
      "=== Start time 2017-10-02 14:42:05.691298 ========== \n",
      "\n",
      "Done\n",
      "\n",
      "=== End ========== 2017-10-02 14:42:08.034030 ==========  run time: 0:00:02.342732 ========== \n"
     ]
    }
   ],
   "source": [
    "import datetime\n",
    "\n",
    "x = 0\n",
    "def inner(i):\n",
    "    global x\n",
    "    x = x + i\n",
    "    \n",
    "\n",
    "multiplier = 10000000\n",
    "start_time = datetime.datetime.now()\n",
    "print('=== Start time '+ str(start_time)+ ' ========== '); print()\n",
    "for i in range(multiplier): \n",
    "    inner(i)\n",
    "print(\"Done\")\n",
    "\n",
    "# Calculate and print run time\n",
    "end_time = datetime.datetime.now()\n",
    "run_time_multiple = end_time-start_time\n",
    "print(); print('=== End ========== '+ str(end_time) + ' ========== ' + \" run time: \"+ str(run_time_multiple) + ' ========== ')"
   ]
  },
  {
   "cell_type": "markdown",
   "metadata": {},
   "source": [
    "__Function called once (loop inside the function)__"
   ]
  },
  {
   "cell_type": "code",
   "execution_count": 36,
   "metadata": {},
   "outputs": [
    {
     "name": "stdout",
     "output_type": "stream",
     "text": [
      "=== Start time 2017-10-02 14:42:11.238774 ========== \n",
      "\n",
      "\n",
      "=== End ========== 2017-10-02 14:42:12.222044 ==========  run time: 0:00:00.983270 ========== \n"
     ]
    }
   ],
   "source": [
    "x = 0\n",
    "def aggregate(list):\n",
    "    global x\n",
    "    for i in list:\n",
    "        x = x + i\n",
    "\n",
    "start_time = datetime.datetime.now()\n",
    "print('=== Start time '+ str(start_time)+ ' ========== '); print()\n",
    "aggregate(range(multiplier))\n",
    "# Calculate and print run time\n",
    "end_time = datetime.datetime.now()\n",
    "run_time_single = end_time-start_time\n",
    "print(); print('=== End ========== '+ str(end_time) + ' ========== ' + \" run time: \"+ str(run_time_single) + ' ========== ')"
   ]
  },
  {
   "cell_type": "markdown",
   "metadata": {},
   "source": [
    "### Performance change"
   ]
  },
  {
   "cell_type": "code",
   "execution_count": 39,
   "metadata": {},
   "outputs": [
    {
     "name": "stdout",
     "output_type": "stream",
     "text": [
      "run time Multiple: 0:00:02.342732\n",
      "run time Single: 0:00:00.983270\n",
      "run time Diff: 0:00:01.359462\n",
      "Multiplier: 10000000\n",
      "Overhead per function call: 0:00:00\n",
      "ratio: 2.382592777161919\n"
     ]
    }
   ],
   "source": [
    "print(\"run time Multiple: \"+str(run_time_multiple))\n",
    "print(\"run time Single: \"+str(run_time_single))\n",
    "print(\"run time Diff: \"+str(run_time_multiple-run_time_single))\n",
    "print(\"Multiplier: \"+str(multiplier))\n",
    "print(\"Overhead per function call: \"+str((run_time_multiple-run_time_single)/multiplier))\n",
    "print(\"ratio: \"+str(run_time_multiple/run_time_single))"
   ]
  },
  {
   "cell_type": "code",
   "execution_count": null,
   "metadata": {},
   "outputs": [],
   "source": []
  }
 ],
 "metadata": {
  "kernelspec": {
   "display_name": "Python 3",
   "language": "python",
   "name": "python3"
  },
  "language_info": {
   "codemirror_mode": {
    "name": "ipython",
    "version": 3
   },
   "file_extension": ".py",
   "mimetype": "text/x-python",
   "name": "python",
   "nbconvert_exporter": "python",
   "pygments_lexer": "ipython3",
   "version": "3.6.2"
  }
 },
 "nbformat": 4,
 "nbformat_minor": 2
}
