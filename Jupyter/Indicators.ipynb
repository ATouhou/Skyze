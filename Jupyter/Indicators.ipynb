{
 "cells": [
  {
   "cell_type": "code",
   "execution_count": 25,
   "metadata": {
    "collapsed": false
   },
   "outputs": [
    {
     "name": "stdout",
     "output_type": "stream",
     "text": [
      "   Close  High  Low  Open  Something  Volume\n",
      "0      4     7    2     5          1     100\n",
      "1      5     8    4     6          1     200\n",
      "2      6     9    4     7          1     300\n",
      "3      7    10    5     8          1     400\n",
      "4      8    11    7     9          1     500\n",
      "5      9    12    7    10          1     600\n"
     ]
    }
   ],
   "source": [
    "import pandas as pd\n",
    "p_market_data = pd.DataFrame(\n",
    "    {'Open': [5,6,7,8,9,10],\n",
    "     'High': [7,8,9,10,11,12],\n",
    "     'Low': [2,4,4,5,7,7],\n",
    "     'Close': [4,5,6,7,8,9],\n",
    "     'Volume': [100,200,300,400,500,600],\n",
    "     'Something': [1,1,1,1,1,1]\n",
    "    })\n",
    "print(p_market_data)\n",
    "fatRatio = 0.22"
   ]
  },
  {
   "cell_type": "code",
   "execution_count": 35,
   "metadata": {
    "collapsed": false
   },
   "outputs": [
    {
     "name": "stdout",
     "output_type": "stream",
     "text": [
      "   Close  High  Low  Open  Something  Volume BigFatCandle\n",
      "0      4     7    2     5          1     100        False\n",
      "1      5     8    4     6          1     200         True\n",
      "2      6     9    4     7          1     300        False\n",
      "3      7    10    5     8          1     400        False\n",
      "4      8    11    7     9          1     500         True\n",
      "5      9    12    7    10          1     600        False\n"
     ]
    }
   ],
   "source": [
    "p_market_data[\"BigFatCandle\"] = abs(p_market_data['Open']- p_market_data['Close'])/(p_market_data['High']-p_market_data['Low'])>fatRatio\n",
    "print(p_market_data)"
   ]
  },
  {
   "cell_type": "code",
   "execution_count": 31,
   "metadata": {
    "collapsed": false
   },
   "outputs": [
    {
     "data": {
      "text/html": [
       "<div>\n",
       "<table border=\"1\" class=\"dataframe\">\n",
       "  <thead>\n",
       "    <tr style=\"text-align: right;\">\n",
       "      <th></th>\n",
       "      <th>0</th>\n",
       "      <th>1</th>\n",
       "      <th>2</th>\n",
       "      <th>3</th>\n",
       "      <th>4</th>\n",
       "      <th>5</th>\n",
       "    </tr>\n",
       "  </thead>\n",
       "  <tbody>\n",
       "    <tr>\n",
       "      <th>0</th>\n",
       "      <td>0.2</td>\n",
       "      <td>0.25</td>\n",
       "      <td>0.2</td>\n",
       "      <td>0.2</td>\n",
       "      <td>0.25</td>\n",
       "      <td>0.2</td>\n",
       "    </tr>\n",
       "    <tr>\n",
       "      <th>1</th>\n",
       "      <td>0.2</td>\n",
       "      <td>0.25</td>\n",
       "      <td>0.2</td>\n",
       "      <td>0.2</td>\n",
       "      <td>0.25</td>\n",
       "      <td>0.2</td>\n",
       "    </tr>\n",
       "    <tr>\n",
       "      <th>2</th>\n",
       "      <td>0.2</td>\n",
       "      <td>0.25</td>\n",
       "      <td>0.2</td>\n",
       "      <td>0.2</td>\n",
       "      <td>0.25</td>\n",
       "      <td>0.2</td>\n",
       "    </tr>\n",
       "    <tr>\n",
       "      <th>3</th>\n",
       "      <td>0.2</td>\n",
       "      <td>0.25</td>\n",
       "      <td>0.2</td>\n",
       "      <td>0.2</td>\n",
       "      <td>0.25</td>\n",
       "      <td>0.2</td>\n",
       "    </tr>\n",
       "    <tr>\n",
       "      <th>4</th>\n",
       "      <td>0.2</td>\n",
       "      <td>0.25</td>\n",
       "      <td>0.2</td>\n",
       "      <td>0.2</td>\n",
       "      <td>0.25</td>\n",
       "      <td>0.2</td>\n",
       "    </tr>\n",
       "    <tr>\n",
       "      <th>5</th>\n",
       "      <td>0.2</td>\n",
       "      <td>0.25</td>\n",
       "      <td>0.2</td>\n",
       "      <td>0.2</td>\n",
       "      <td>0.25</td>\n",
       "      <td>0.2</td>\n",
       "    </tr>\n",
       "  </tbody>\n",
       "</table>\n",
       "</div>"
      ],
      "text/plain": [
       "     0     1    2    3     4    5\n",
       "0  0.2  0.25  0.2  0.2  0.25  0.2\n",
       "1  0.2  0.25  0.2  0.2  0.25  0.2\n",
       "2  0.2  0.25  0.2  0.2  0.25  0.2\n",
       "3  0.2  0.25  0.2  0.2  0.25  0.2\n",
       "4  0.2  0.25  0.2  0.2  0.25  0.2\n",
       "5  0.2  0.25  0.2  0.2  0.25  0.2"
      ]
     },
     "execution_count": 31,
     "metadata": {},
     "output_type": "execute_result"
    }
   ],
   "source": [
    "p_market_data.apply(lambda row: abs(p_market_data['Open']- p_market_data['Close'])/\n",
    "                                    (p_market_data['High']-p_market_data['Low']),\n",
    "                    axis=1)"
   ]
  },
  {
   "cell_type": "raw",
   "metadata": {},
   "source": [
    "print(p_market_data)"
   ]
  },
  {
   "cell_type": "code",
   "execution_count": null,
   "metadata": {
    "collapsed": true
   },
   "outputs": [],
   "source": []
  }
 ],
 "metadata": {
  "kernelspec": {
   "display_name": "Python [conda root]",
   "language": "python",
   "name": "conda-root-py"
  },
  "language_info": {
   "codemirror_mode": {
    "name": "ipython",
    "version": 3
   },
   "file_extension": ".py",
   "mimetype": "text/x-python",
   "name": "python",
   "nbconvert_exporter": "python",
   "pygments_lexer": "ipython3",
   "version": "3.5.2"
  }
 },
 "nbformat": 4,
 "nbformat_minor": 1
}
