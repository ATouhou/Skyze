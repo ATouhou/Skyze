{
 "cells": [
  {
   "cell_type": "markdown",
   "metadata": {},
   "source": [
    "# Martin Flow Calculations\n"
   ]
  },
  {
   "cell_type": "markdown",
   "metadata": {},
   "source": [
    "## Parameters"
   ]
  },
  {
   "cell_type": "code",
   "execution_count": 9,
   "metadata": {
    "collapsed": false
   },
   "outputs": [
    {
     "name": "stdout",
     "output_type": "stream",
     "text": [
      "One cycle takes:   4.0 minutes\n",
      "One process takes: 80.0 minutes\n"
     ]
    }
   ],
   "source": [
    "volume = 400                    # litres\n",
    "circulation = 100               # litres/minute\n",
    "fibre_av_length_start = 10      # millimeters\n",
    "fibre_av_length_finish = 0.1    # mm\n",
    "cycles_to_process = 20          # Cycles to go from av start to end fibre length\n",
    "\n",
    "time_one_cycle = volume / circulation                    # minutes ... circulate the entire volume\n",
    "time_one_process = cycles_to_process * time_one_cycle    # minutes ... process to get target av fibre length\n",
    "\n",
    "# Content flow\n",
    "flow_in  = 2      # litres / minute\n",
    "flow_out = 2      # litres / minute\n",
    "\n",
    "print(\"One cycle takes:   \"+str(time_one_cycle)+\" minutes\")\n",
    "print(\"One process takes: \"+str(time_one_process)+\" minutes\")"
   ]
  },
  {
   "cell_type": "markdown",
   "metadata": {},
   "source": [
    "## Change in Fibre Lengths\n",
    "### Start with full volume no adding or removing of contents"
   ]
  },
  {
   "cell_type": "code",
   "execution_count": 20,
   "metadata": {
    "collapsed": false
   },
   "outputs": [
    {
     "name": "stdout",
     "output_type": "stream",
     "text": [
      "delta_fibre_length_cycle:   0.05 %\n",
      "delta_fibre_length_minute: 0.0125 %\n"
     ]
    }
   ],
   "source": [
    "# Assume average fibre length change per circulation is linear\n",
    "\n",
    "delta_fibre_length_cycle  = 1 / cycles_to_process\n",
    "delta_fibre_length_minute = 1 / time_one_process\n",
    "\n",
    "print(\"delta_fibre_length_cycle:   \"+str(delta_fibre_length_cycle)+\" %\")\n",
    "print(\"delta_fibre_length_minute: \"+str(delta_fibre_length_minute)+\" %\")"
   ]
  },
  {
   "cell_type": "code",
   "execution_count": 19,
   "metadata": {
    "collapsed": false
   },
   "outputs": [
    {
     "data": {
      "image/png": "[encoded data removed]",
      "text/plain": [
       "<matplotlib.figure.Figure at 0x10fb095c0>"
      ]
     },
     "metadata": {},
     "output_type": "display_data"
    }
   ],
   "source": [
    "\n",
    "import matplotlib.pyplot as plt\n",
    "\n",
    "data = []\n",
    "i = fibre_av_length_start\n",
    "while i >= fibre_av_length_finish:\n",
    "    data.append(i)\n",
    "    i -= fibre_av_length_start*delta_fibre_length_cycle\n",
    "\n",
    "plt.figure\n",
    "plt.title('Change in Fibre Length (%) over time', size = 'large')\n",
    "plt.xlabel(\"Cycles\")\n",
    "plt.ylabel(\"Av Fire Length (mm)\")\n",
    "plt.plot(data)\n",
    "plt.show()"
   ]
  },
  {
   "cell_type": "markdown",
   "metadata": {},
   "source": [
    "##  Run for full processing cycle THEN start content flow\n",
    "Start with full volume for full processing cycle so that the target average length has been reached\\n\n",
    "THEN start the content flow"
   ]
  },
  {
   "cell_type": "code",
   "execution_count": 22,
   "metadata": {
    "collapsed": false
   },
   "outputs": [
    {
     "name": "stdout",
     "output_type": "stream",
     "text": [
      "0\n",
      "1\n",
      "2\n",
      "3\n",
      "4\n",
      "5\n",
      "6\n",
      "7\n",
      "8\n",
      "9\n",
      "10\n",
      "11\n",
      "12\n",
      "13\n",
      "14\n",
      "15\n",
      "16\n",
      "17\n",
      "18\n",
      "19\n"
     ]
    }
   ],
   "source": [
    "start_volume = volume\n",
    "start_av_length = fibre_av_length_finish\n",
    "prev_av_length = start_av_length\n",
    "for i in range(cycles_to_process):\n",
    "    new_av_length = (start_volume-flow_out)*prev_av_length*\n",
    "    print(i)"
   ]
  },
  {
   "cell_type": "code",
   "execution_count": null,
   "metadata": {
    "collapsed": true
   },
   "outputs": [],
   "source": []
  }
 ],
 "metadata": {
  "anaconda-cloud": {},
  "kernelspec": {
   "display_name": "Python [conda root]",
   "language": "python",
   "name": "conda-root-py"
  },
  "language_info": {
   "codemirror_mode": {
    "name": "ipython",
    "version": 3
   },
   "file_extension": ".py",
   "mimetype": "text/x-python",
   "name": "python",
   "nbconvert_exporter": "python",
   "pygments_lexer": "ipython3",
   "version": "3.5.2"
  }
 },
 "nbformat": 4,
 "nbformat_minor": 1
}
