{
 "cells": [
  {
   "cell_type": "markdown",
   "metadata": {},
   "source": [
    "# Artic Skyze"
   ]
  },
  {
   "cell_type": "code",
   "execution_count": 2,
   "metadata": {},
   "outputs": [],
   "source": [
    "from datetime import datetime\n",
    "import time\n",
    "import ystockquote\n",
    "\n",
    "from arctic import Arctic\n",
    "import collections\n",
    "import pandas\n",
    "import pandas as pd\n",
    "import pprint\n",
    "\n",
    "\n",
    "from trading_ig import IGService\n",
    "#from trading_ig.config import config\n",
    "\n",
    "# Connect to Local MONGODB\n",
    "\n",
    "arctic = Arctic('localhost')"
   ]
  },
  {
   "cell_type": "code",
   "execution_count": 3,
   "metadata": {},
   "outputs": [
    {
     "name": "stdout",
     "output_type": "stream",
     "text": [
      "<class 'arctic.arctic.Arctic'>\n",
      "<Arctic at 0x1033f9f98, connected to MongoClient(host=['localhost:27017'], document_class=dict, tz_aware=False, connect=True, maxpoolsize=4, sockettimeoutms=600000, connecttimeoutms=2000, serverselectiontimeoutms=30000)>\n"
     ]
    }
   ],
   "source": [
    "print(type(arctic))\n",
    "print(arctic)"
   ]
  },
  {
   "cell_type": "code",
   "execution_count": 4,
   "metadata": {},
   "outputs": [
    {
     "data": {
      "text/plain": [
       "['SKYZE', 'NASDAQ']"
      ]
     },
     "execution_count": 4,
     "metadata": {},
     "output_type": "execute_result"
    }
   ],
   "source": [
    "arctic.list_libraries()"
   ]
  },
  {
   "cell_type": "code",
   "execution_count": 5,
   "metadata": {},
   "outputs": [
    {
     "name": "stderr",
     "output_type": "stream",
     "text": [
      "Library created, but couldn't enable sharding: no such command: 'enablesharding', bad cmd: '{ enablesharding: \"arctic\" }'. This is OK if you're not 'admin'\n"
     ]
    }
   ],
   "source": [
    "# Create a VersionStore library\n",
    "arctic.delete_library('jblackburn.stocks')\n",
    "arctic.delete_library('NASDAQ')\n",
    "arctic.initialize_library('SKYZE')"
   ]
  },
  {
   "cell_type": "code",
   "execution_count": 6,
   "metadata": {},
   "outputs": [
    {
     "data": {
      "text/plain": [
       "['SKYZE']"
      ]
     },
     "execution_count": 6,
     "metadata": {},
     "output_type": "execute_result"
    }
   ],
   "source": [
    "arctic.list_libraries()"
   ]
  },
  {
   "cell_type": "markdown",
   "metadata": {},
   "source": [
    "# get stock history YAHOO"
   ]
  },
  {
   "cell_type": "code",
   "execution_count": 7,
   "metadata": {},
   "outputs": [],
   "source": [
    "def get_stock_history(ticker, start_date, end_date):\n",
    "    data = ystockquote.get_historical_prices(ticker, start_date, end_date)\n",
    "    df = pandas.DataFrame(collections.OrderedDict(sorted(data.items()))).T\n",
    "    df = df.convert_objects(convert_numeric=True)\n",
    "    return df"
   ]
  },
  {
   "cell_type": "code",
   "execution_count": 8,
   "metadata": {},
   "outputs": [
    {
     "name": "stdout",
     "output_type": "stream",
     "text": [
      "<class 'arctic.store.version_store.VersionStore'>\n",
      "<VersionStore at 0x105c94cc0>\n",
      "    <ArcticLibrary at 0x1033f9c18, arctic.SKYZE>\n",
      "        <Arctic at 0x1033f9f98, connected to MongoClient(host=['localhost:27017'], document_class=dict, tz_aware=False, connect=True, maxpoolsize=4, sockettimeoutms=600000, connecttimeoutms=2000, serverselectiontimeoutms=30000)>\n"
     ]
    }
   ],
   "source": [
    "stocks = arctic['SKYZE']\n",
    "print(type(stocks))\n",
    "print(stocks)"
   ]
  },
  {
   "cell_type": "code",
   "execution_count": null,
   "metadata": {},
   "outputs": [],
   "source": [
    "aapl = get_stock_history('aapl', '2015-01-01', '2015-02-01')"
   ]
  },
  {
   "cell_type": "markdown",
   "metadata": {},
   "source": [
    "# Get IG Markets"
   ]
  },
  {
   "cell_type": "code",
   "execution_count": 14,
   "metadata": {},
   "outputs": [
    {
     "name": "stdout",
     "output_type": "stream",
     "text": [
      "synchronicity\n",
      "Eldership88*\n",
      "38b13896c1dbbc27919c2e9198ac2bdb3cde2887\n",
      "LIVE\n",
      "<trading_ig.rest.IGService object at 0x105d6d518>\n"
     ]
    },
    {
     "data": {
      "text/plain": [
       "{'accountInfo': {'available': 132.0,\n",
       "  'balance': 132.0,\n",
       "  'deposit': 0.0,\n",
       "  'profitLoss': 0.0},\n",
       " 'accountType': 'CFD',\n",
       " 'accounts': [{'accountId': 'NZ3B3',\n",
       "   'accountName': 'CFD',\n",
       "   'accountType': 'CFD',\n",
       "   'preferred': True}],\n",
       " 'clientId': '102144929',\n",
       " 'currencyIsoCode': 'AUD',\n",
       " 'currencySymbol': 'A$',\n",
       " 'currentAccountId': 'NZ3B3',\n",
       " 'dealingEnabled': True,\n",
       " 'hasActiveDemoAccounts': True,\n",
       " 'hasActiveLiveAccounts': True,\n",
       " 'lightstreamerEndpoint': 'https://apd.marketdatasystems.com',\n",
       " 'reroutingEnvironment': None,\n",
       " 'timezoneOffset': 10,\n",
       " 'trailingStopsEnabled': False}"
      ]
     },
     "execution_count": 14,
     "metadata": {},
     "output_type": "execute_result"
    }
   ],
   "source": [
    "import os\n",
    "#print (os.environ)\n",
    "acc_number = os.environ['IG_SERVICE_ACC_NUMBER']\n",
    "password = os.environ['IG_SERVICE_PASSWORD']\n",
    "api_key = \"38b13896c1dbbc27919c2e9198ac2bdb3cde2887\" #os.environ['IG_SERVICE_API_KEY']\n",
    "username = os.environ['IG_SERVICE_USERNAME']\n",
    "acc_type = \"LIVE\" #os.environ['IG_SERVICE_ACC_TYPE']\n",
    "print(username); print(password); print(api_key); print(acc_type)\n",
    "\n",
    "# Crete the session\n",
    "ig_service = IGService(username, password, api_key, acc_type)\n",
    "print(ig_service)\n",
    "ig_service.create_session()\n"
   ]
  },
  {
   "cell_type": "code",
   "execution_count": 16,
   "metadata": {},
   "outputs": [
    {
     "ename": "AttributeError",
     "evalue": "'IGService' object has no attribute '_set_headers'",
     "output_type": "error",
     "traceback": [
      "\u001b[0;31m---------------------------------------------------------------\u001b[0m",
      "\u001b[0;31mAttributeError\u001b[0m                Traceback (most recent call last)",
      "\u001b[0;32m<ipython-input-16-0ad74a766812>\u001b[0m in \u001b[0;36m<module>\u001b[0;34m()\u001b[0m\n\u001b[0;32m----> 1\u001b[0;31m \u001b[0maccount_info\u001b[0m \u001b[0;34m=\u001b[0m \u001b[0mig_service\u001b[0m\u001b[0;34m.\u001b[0m\u001b[0mswitch_account\u001b[0m\u001b[0;34m(\u001b[0m\u001b[0macc_number\u001b[0m\u001b[0;34m,\u001b[0m \u001b[0;32mFalse\u001b[0m\u001b[0;34m)\u001b[0m \u001b[0;31m# not necessary\u001b[0m\u001b[0;34m\u001b[0m\u001b[0m\n\u001b[0m\u001b[1;32m      2\u001b[0m \u001b[0mprint\u001b[0m\u001b[0;34m(\u001b[0m\u001b[0maccount_info\u001b[0m\u001b[0;34m)\u001b[0m\u001b[0;34m\u001b[0m\u001b[0m\n",
      "\u001b[0;32m~/.local/share/virtualenvs/Skyze-v-C51IT9/lib/python3.6/site-packages/trading_ig/rest.py\u001b[0m in \u001b[0;36mswitch_account\u001b[0;34m(self, account_id, default_account, session)\u001b[0m\n\u001b[1;32m    956\u001b[0m         \u001b[0maction\u001b[0m \u001b[0;34m=\u001b[0m \u001b[0;34m'update'\u001b[0m\u001b[0;34m\u001b[0m\u001b[0m\n\u001b[1;32m    957\u001b[0m         \u001b[0mresponse\u001b[0m \u001b[0;34m=\u001b[0m \u001b[0mself\u001b[0m\u001b[0;34m.\u001b[0m\u001b[0m_req\u001b[0m\u001b[0;34m(\u001b[0m\u001b[0maction\u001b[0m\u001b[0;34m,\u001b[0m \u001b[0mendpoint\u001b[0m\u001b[0;34m,\u001b[0m \u001b[0mparams\u001b[0m\u001b[0;34m,\u001b[0m \u001b[0msession\u001b[0m\u001b[0;34m)\u001b[0m\u001b[0;34m\u001b[0m\u001b[0m\n\u001b[0;32m--> 958\u001b[0;31m         \u001b[0mself\u001b[0m\u001b[0;34m.\u001b[0m\u001b[0m_set_headers\u001b[0m\u001b[0;34m(\u001b[0m\u001b[0mresponse\u001b[0m\u001b[0;34m.\u001b[0m\u001b[0mheaders\u001b[0m\u001b[0;34m,\u001b[0m \u001b[0;32mFalse\u001b[0m\u001b[0;34m)\u001b[0m\u001b[0;34m\u001b[0m\u001b[0m\n\u001b[0m\u001b[1;32m    959\u001b[0m         \u001b[0mdata\u001b[0m \u001b[0;34m=\u001b[0m \u001b[0mself\u001b[0m\u001b[0;34m.\u001b[0m\u001b[0mparse_response\u001b[0m\u001b[0;34m(\u001b[0m\u001b[0mresponse\u001b[0m\u001b[0;34m.\u001b[0m\u001b[0mtext\u001b[0m\u001b[0;34m)\u001b[0m\u001b[0;34m\u001b[0m\u001b[0m\n\u001b[1;32m    960\u001b[0m         \u001b[0;32mreturn\u001b[0m \u001b[0mdata\u001b[0m\u001b[0;34m\u001b[0m\u001b[0m\n",
      "\u001b[0;31mAttributeError\u001b[0m: 'IGService' object has no attribute '_set_headers'"
     ]
    }
   ],
   "source": [
    "account_info = ig_service.switch_account(acc_number, False) # not necessary\n",
    "print(account_info)\n"
   ]
  },
  {
   "cell_type": "code",
   "execution_count": 17,
   "metadata": {},
   "outputs": [
    {
     "name": "stdout",
     "output_type": "stream",
     "text": [
      "open_positions:\n",
      "Empty DataFrame\n",
      "Columns: [lotSize, epic, controlledRisk, percentageChange, netChange, expiry, marketStatus, dealSize, openLevel, contractSize, currency, updateTime, direction, scalingFactor, delayTime, streamingPricesAvailable, offer, instrumentName, high, trailingStopDistance, limitLevel, low, createdDate, dealId, stopLevel, trailingStep, instrumentType, bid]\n",
      "Index: []\n",
      "\n",
      "[0 rows x 28 columns]\n"
     ]
    }
   ],
   "source": [
    "open_positions = ig_service.fetch_open_positions()\n",
    "print(\"open_positions:\\n%s\" % open_positions)"
   ]
  },
  {
   "cell_type": "code",
   "execution_count": 29,
   "metadata": {},
   "outputs": [
    {
     "name": "stdout",
     "output_type": "stream",
     "text": [
      "ask prices:\n",
      "                        Open     High      Low    Close\n",
      "DateTime                                               \n",
      "2017:09:19-00:00:00  1.19603  1.20073  1.19226  1.19858\n",
      "2017:09:20-00:00:00  1.19859  1.20228  1.19607  1.19971\n",
      "2017:09:21-00:00:00  1.19972  1.20356  1.18621  1.19254\n",
      "2017:09:22-00:00:00  1.19255  1.20053  1.19104  1.19687\n",
      "2017:09:23-00:00:00  1.19684  1.19845  1.19372  1.19499\n",
      "2017:09:25-00:00:00  1.19061  1.19374  1.18624  1.18795\n",
      "2017:09:26-00:00:00  1.18796  1.18892  1.17807  1.17816\n",
      "2017:09:27-00:00:00  1.17822  1.18114  1.17173  1.17263\n",
      "2017:09:28-00:00:00  1.17264  1.17962  1.17188  1.17953\n",
      "2017:09:29-00:00:00  1.17955  1.18093  1.17729  1.18005\n",
      "<class 'dict'>\n",
      "{'prices':                          bid                                 ask           \\\n",
      "                        Open     High      Low    Close     Open     High   \n",
      "DateTime                                                                    \n",
      "2017:09:19-00:00:00  1.19597  1.20062  1.19216  1.19852  1.19603  1.20073   \n",
      "2017:09:20-00:00:00  1.19853  1.20218  1.19598  1.19952  1.19859  1.20228   \n",
      "2017:09:21-00:00:00  1.19953  1.20337  1.18606  1.19239  1.19972  1.20356   \n",
      "2017:09:22-00:00:00  1.19240  1.20044  1.19092  1.19672  1.19255  1.20053   \n",
      "2017:09:23-00:00:00  1.19669  1.19836  1.19366  1.19463  1.19684  1.19845   \n",
      "2017:09:25-00:00:00  1.19021  1.19365  1.18612  1.18789  1.19061  1.19374   \n",
      "2017:09:26-00:00:00  1.18790  1.18883  1.17789  1.17797  1.18796  1.18892   \n",
      "2017:09:27-00:00:00  1.17792  1.18104  1.17165  1.17257  1.17822  1.18114   \n",
      "2017:09:28-00:00:00  1.17258  1.17954  1.17182  1.17947  1.17264  1.17962   \n",
      "2017:09:29-00:00:00  1.17949  1.18087  1.17718  1.17999  1.17955  1.18093   \n",
      "\n",
      "                                        spread                             \\\n",
      "                         Low    Close     Open     High      Low    Close   \n",
      "DateTime                                                                    \n",
      "2017:09:19-00:00:00  1.19226  1.19858  0.00006  0.00011  0.00010  0.00006   \n",
      "2017:09:20-00:00:00  1.19607  1.19971  0.00006  0.00010  0.00009  0.00019   \n",
      "2017:09:21-00:00:00  1.18621  1.19254  0.00019  0.00019  0.00015  0.00015   \n",
      "2017:09:22-00:00:00  1.19104  1.19687  0.00015  0.00009  0.00012  0.00015   \n",
      "2017:09:23-00:00:00  1.19372  1.19499  0.00015  0.00009  0.00006  0.00036   \n",
      "2017:09:25-00:00:00  1.18624  1.18795  0.00040  0.00009  0.00012  0.00006   \n",
      "2017:09:26-00:00:00  1.17807  1.17816  0.00006  0.00009  0.00018  0.00019   \n",
      "2017:09:27-00:00:00  1.17173  1.17263  0.00030  0.00010  0.00008  0.00006   \n",
      "2017:09:28-00:00:00  1.17188  1.17953  0.00006  0.00008  0.00006  0.00006   \n",
      "2017:09:29-00:00:00  1.17729  1.18005  0.00006  0.00006  0.00011  0.00006   \n",
      "\n",
      "                     last                            \n",
      "                     Open  High   Low Close  Volume  \n",
      "DateTime                                             \n",
      "2017:09:19-00:00:00  None  None  None  None  480704  \n",
      "2017:09:20-00:00:00  None  None  None  None  403130  \n",
      "2017:09:21-00:00:00  None  None  None  None  584973  \n",
      "2017:09:22-00:00:00  None  None  None  None  447266  \n",
      "2017:09:23-00:00:00  None  None  None  None  121393  \n",
      "2017:09:25-00:00:00  None  None  None  None  296450  \n",
      "2017:09:26-00:00:00  None  None  None  None  452384  \n",
      "2017:09:27-00:00:00  None  None  None  None  460564  \n",
      "2017:09:28-00:00:00  None  None  None  None  501247  \n",
      "2017:09:29-00:00:00  None  None  None  None  270752  , 'instrumentType': 'CURRENCIES', 'allowance': {'remainingAllowance': 9960, 'totalAllowance': 10000, 'allowanceExpiry': 599269}}\n"
     ]
    }
   ],
   "source": [
    "epic = 'CS.D.EURUSD.MINI.IP'\n",
    "resolution = 'D'\n",
    "num_points = 10\n",
    "response = ig_service.fetch_historical_prices_by_epic_and_num_points(epic, resolution, num_points)\n",
    "df_ask = response['prices']['ask']\n",
    "print(\"ask prices:\\n%s\" % df_ask)\n",
    "print(type(response))\n",
    "print(response)\n",
    "      "
   ]
  },
  {
   "cell_type": "markdown",
   "metadata": {},
   "source": [
    "# Insert into Artic"
   ]
  },
  {
   "cell_type": "code",
   "execution_count": 28,
   "metadata": {},
   "outputs": [
    {
     "name": "stdout",
     "output_type": "stream",
     "text": [
      "<class 'dict'>\n",
      "{'prices':                          bid                                 ask           \\\n",
      "                        Open     High      Low    Close     Open     High   \n",
      "DateTime                                                                    \n",
      "2017:09:19-00:00:00  1.19597  1.20062  1.19216  1.19852  1.19603  1.20073   \n",
      "2017:09:20-00:00:00  1.19853  1.20218  1.19598  1.19952  1.19859  1.20228   \n",
      "2017:09:21-00:00:00  1.19953  1.20337  1.18606  1.19239  1.19972  1.20356   \n",
      "2017:09:22-00:00:00  1.19240  1.20044  1.19092  1.19672  1.19255  1.20053   \n",
      "2017:09:23-00:00:00  1.19669  1.19836  1.19366  1.19463  1.19684  1.19845   \n",
      "2017:09:25-00:00:00  1.19021  1.19365  1.18612  1.18789  1.19061  1.19374   \n",
      "2017:09:26-00:00:00  1.18790  1.18883  1.17789  1.17797  1.18796  1.18892   \n",
      "2017:09:27-00:00:00  1.17792  1.18104  1.17165  1.17257  1.17822  1.18114   \n",
      "2017:09:28-00:00:00  1.17258  1.17954  1.17182  1.17947  1.17264  1.17962   \n",
      "2017:09:29-00:00:00  1.17949  1.18087  1.17718  1.17993  1.17955  1.18093   \n",
      "\n",
      "                                        spread                             \\\n",
      "                         Low    Close     Open     High      Low    Close   \n",
      "DateTime                                                                    \n",
      "2017:09:19-00:00:00  1.19226  1.19858  0.00006  0.00011  0.00010  0.00006   \n",
      "2017:09:20-00:00:00  1.19607  1.19971  0.00006  0.00010  0.00009  0.00019   \n",
      "2017:09:21-00:00:00  1.18621  1.19254  0.00019  0.00019  0.00015  0.00015   \n",
      "2017:09:22-00:00:00  1.19104  1.19687  0.00015  0.00009  0.00012  0.00015   \n",
      "2017:09:23-00:00:00  1.19372  1.19499  0.00015  0.00009  0.00006  0.00036   \n",
      "2017:09:25-00:00:00  1.18624  1.18795  0.00040  0.00009  0.00012  0.00006   \n",
      "2017:09:26-00:00:00  1.17807  1.17816  0.00006  0.00009  0.00018  0.00019   \n",
      "2017:09:27-00:00:00  1.17173  1.17263  0.00030  0.00010  0.00008  0.00006   \n",
      "2017:09:28-00:00:00  1.17188  1.17953  0.00006  0.00008  0.00006  0.00006   \n",
      "2017:09:29-00:00:00  1.17729  1.17999  0.00006  0.00006  0.00011  0.00006   \n",
      "\n",
      "                     last                            \n",
      "                     Open  High   Low Close  Volume  \n",
      "DateTime                                             \n",
      "2017:09:19-00:00:00  None  None  None  None  480704  \n",
      "2017:09:20-00:00:00  None  None  None  None  403130  \n",
      "2017:09:21-00:00:00  None  None  None  None  584973  \n",
      "2017:09:22-00:00:00  None  None  None  None  447266  \n",
      "2017:09:23-00:00:00  None  None  None  None  121393  \n",
      "2017:09:25-00:00:00  None  None  None  None  296450  \n",
      "2017:09:26-00:00:00  None  None  None  None  452384  \n",
      "2017:09:27-00:00:00  None  None  None  None  460564  \n",
      "2017:09:28-00:00:00  None  None  None  None  501247  \n",
      "2017:09:29-00:00:00  None  None  None  None  269815  , 'instrumentType': 'CURRENCIES', 'allowance': {'remainingAllowance': 9970, 'totalAllowance': 10000, 'allowanceExpiry': 599434}}\n"
     ]
    },
    {
     "data": {
      "text/plain": [
       "1"
      ]
     },
     "execution_count": 28,
     "metadata": {},
     "output_type": "execute_result"
    }
   ],
   "source": [
    "# store them in the library\n",
    "# stocks.write(epic, response, metadata={'source': 'IGMarkets'})\n",
    "print(type(stocks.read(epic).data))\n",
    "print(stocks.read(epic).data)#['Close'].plot()\n",
    "stocks.read(epic).metadata\n",
    "stocks.read(epic).version"
   ]
  },
  {
   "cell_type": "code",
   "execution_count": 32,
   "metadata": {},
   "outputs": [
    {
     "name": "stdout",
     "output_type": "stream",
     "text": [
      "['CS.D.EURUSD.MINI.IP']\n"
     ]
    },
    {
     "data": {
      "text/plain": [
       "[{'date': datetime.datetime(2017, 9, 29, 18, 48, 23, tzinfo=tzfile('/usr/share/zoneinfo/Australia/Sydney')),\n",
       "  'deleted': False,\n",
       "  'snapshots': [],\n",
       "  'symbol': 'CS.D.EURUSD.MINI.IP',\n",
       "  'version': 1}]"
      ]
     },
     "execution_count": 32,
     "metadata": {},
     "output_type": "execute_result"
    }
   ],
   "source": [
    "# Reading different versions of the symbol\n",
    "print(stocks.list_symbols())\n",
    "stocks.list_versions('CS.D.EURUSD.MINI.IP')"
   ]
  },
  {
   "cell_type": "code",
   "execution_count": null,
   "metadata": {},
   "outputs": [],
   "source": []
  }
 ],
 "metadata": {
  "kernelspec": {
   "display_name": "Python 3",
   "language": "python",
   "name": "python3"
  },
  "language_info": {
   "codemirror_mode": {
    "name": "ipython",
    "version": 3
   },
   "file_extension": ".py",
   "mimetype": "text/x-python",
   "name": "python",
   "nbconvert_exporter": "python",
   "pygments_lexer": "ipython3",
   "version": "3.6.2"
  }
 },
 "nbformat": 4,
 "nbformat_minor": 2
}
