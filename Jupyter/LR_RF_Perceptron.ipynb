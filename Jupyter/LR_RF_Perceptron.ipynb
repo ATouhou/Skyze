{
 "cells": [
  {
   "cell_type": "code",
   "execution_count": 9,
   "metadata": {
    "collapsed": false
   },
   "outputs": [],
   "source": [
    "import sklearn\n",
    "import newsapi"
   ]
  },
  {
   "cell_type": "markdown",
   "metadata": {},
   "source": [
    "# List python modules"
   ]
  },
  {
   "cell_type": "code",
   "execution_count": 8,
   "metadata": {
    "collapsed": false
   },
   "outputs": [
    {
     "name": "stdout",
     "output_type": "stream",
     "text": [
      "['alabaster==0.7.9', 'anaconda-clean==1.0', 'anaconda-client==1.5.1', 'anaconda-navigator==1.3.1', 'appnope==0.1.0', 'appscript==1.0.1', 'argcomplete==1.0.0', 'astroid==1.4.7', 'astropy==1.2.1', 'babel==2.3.4', 'backports.shutil-get-terminal-size==1.0.0', 'beautifulsoup4==4.5.1', 'bitarray==0.8.1', 'blaze==0.10.1', 'bokeh==0.12.2', 'boto==2.42.0', 'bottleneck==1.1.0', 'cffi==1.7.0', 'chest==0.2.3', 'click==6.6', 'cloudpickle==0.2.1', 'clyent==1.2.2', 'colorama==0.3.7', 'conda-build==2.0.2', 'conda==4.2.9', 'configobj==5.0.6', 'contextlib2==0.5.3', 'cryptography==1.5', 'cycler==0.10.0', 'cython==0.24.1', 'cytoolz==0.8.0', 'dask==0.11.0', 'datashape==0.5.2', 'decorator==4.0.10', 'dill==0.2.5', 'docutils==0.12', 'dynd==0.7.3.dev1', 'et-xmlfile==1.0.1', 'fastcache==1.0.2', 'filelock==2.0.6', 'flask-cors==2.1.2', 'flask==0.11.1', 'gevent==1.1.2', 'greenlet==0.4.10', 'h5py==2.6.0', 'heapdict==1.0.0', 'idna==2.1', 'imagesize==0.7.1', 'ipykernel==4.5.0', 'ipython-genutils==0.1.0', 'ipython==5.1.0', 'ipywidgets==5.2.2', 'itsdangerous==0.24', 'jdcal==1.2', 'jedi==0.9.0', 'jinja2==2.8', 'jsonschema==2.5.1', 'jupyter-client==4.4.0', 'jupyter-console==5.0.0', 'jupyter-core==4.2.0', 'jupyter==1.0.0', 'lazy-object-proxy==1.2.1', 'llvmlite==0.13.0', 'locket==0.2.0', 'lxml==3.6.4', 'markupsafe==0.23', 'matplotlib==1.5.3', 'mistune==0.7.3', 'mpmath==0.19', 'multipledispatch==0.4.8', 'munch==2.2.0', 'nb-anacondacloud==1.2.0', 'nb-conda-kernels==2.0.0', 'nb-conda==2.0.0', 'nbconvert==4.2.0', 'nbformat==4.1.0', 'nbpresent==3.0.2', 'networkx==1.11', 'nltk==3.2.1', 'nose==1.3.7', 'notebook==4.2.3', 'numba==0.28.1', 'numexpr==2.6.1', 'numpy==1.11.1', 'odo==0.5.0', 'openpyxl==2.3.2', 'pandas==0.18.1', 'partd==0.3.6', 'path.py==0.0.0', 'pathlib2==2.1.0', 'patsy==0.4.1', 'pep8==1.7.0', 'pexpect==4.0.1', 'pickleshare==0.7.4', 'pillow==3.3.1', 'pip==8.1.2', 'pkginfo==1.3.2', 'ply==3.9', 'prompt-toolkit==1.0.3', 'psutil==4.3.1', 'ptyprocess==0.5.1', 'py==1.4.31', 'pyasn1==0.1.9', 'pycosat==0.6.1', 'pycparser==2.14', 'pycrypto==2.6.1', 'pycurl==7.43.0', 'pyflakes==1.3.0', 'pygments==2.1.3', 'pylint==1.5.4', 'pyopenssl==16.0.0', 'pyparsing==2.1.4', 'pytest==2.9.2', 'python-dateutil==2.5.3', 'pytz==2016.6.1', 'pyyaml==3.12', 'pyzmq==15.4.0', 'qtawesome==0.3.3', 'qtconsole==4.2.1', 'qtpy==1.1.2', 'redis==2.10.5', 'requests-cache==0.4.13', 'requests==2.11.1', 'rope-py3k==0.9.4.post1', 'ruamel-yaml==-VERSION', 'scikit-image==0.12.3', 'scikit-learn==0.17.1', 'scipy==0.18.1', 'setuptools==27.2.0', 'simplegeneric==0.8.1', 'singledispatch==3.4.0.3', 'six==1.10.0', 'snowballstemmer==1.2.1', 'sockjs-tornado==1.0.3', 'sphinx==1.4.6', 'spyder==3.0.0', 'sqlalchemy==1.0.13', 'statsmodels==0.6.1', 'sympy==1.0', 'tables==3.2.3.1', 'terminado==0.6', 'toolz==0.8.0', 'tornado==4.4.1', 'trading-ig==0.0.6', 'traitlets==4.3.0', 'unicodecsv==0.14.1', 'wcwidth==0.1.7', 'werkzeug==0.11.11', 'wheel==0.29.0', 'widgetsnbextension==1.2.6', 'wrapt==1.10.6', 'xlrd==1.0.0', 'xlsxwriter==0.9.3', 'xlwings==0.10.0', 'xlwt==1.1.2']\n"
     ]
    }
   ],
   "source": [
    "import pip\n",
    "installed_packages = pip.get_installed_distributions()\n",
    "installed_packages_list = sorted([\"%s==%s\" % (i.key, i.version)\n",
    "     for i in installed_packages])\n",
    "print(installed_packages_list)"
   ]
  },
  {
   "cell_type": "code",
   "execution_count": null,
   "metadata": {
    "collapsed": true
   },
   "outputs": [],
   "source": []
  }
 ],
 "metadata": {
  "anaconda-cloud": {},
  "kernelspec": {
   "display_name": "Python [conda root]",
   "language": "python",
   "name": "conda-root-py"
  },
  "language_info": {
   "codemirror_mode": {
    "name": "ipython",
    "version": 3
   },
   "file_extension": ".py",
   "mimetype": "text/x-python",
   "name": "python",
   "nbconvert_exporter": "python",
   "pygments_lexer": "ipython3",
   "version": "3.5.2"
  }
 },
 "nbformat": 4,
 "nbformat_minor": 1
}
