{
 "cells": [
  {
   "cell_type": "markdown",
   "metadata": {},
   "source": [
    "# PANDAS Time Series and Date Functionality\n",
    "from\n",
    "https://pandas.pydata.org/pandas-docs/stable/timeseries.html"
   ]
  },
  {
   "cell_type": "code",
   "execution_count": 1,
   "metadata": {},
   "outputs": [],
   "source": [
    "import pandas as pd\n",
    "import numpy as np\n",
    "\n",
    "import os\n",
    "#import time\n",
    "from datetime import datetime\n"
   ]
  },
  {
   "cell_type": "code",
   "execution_count": 84,
   "metadata": {
    "collapsed": true
   },
   "outputs": [],
   "source": [
    "dates = [pd.Timestamp('2012-05-01'), pd.Timestamp('2012-05-02'), pd.Timestamp('2012-05-03')]\n"
   ]
  },
  {
   "cell_type": "code",
   "execution_count": 87,
   "metadata": {},
   "outputs": [
    {
     "name": "stdout",
     "output_type": "stream",
     "text": [
      "[Timestamp('2012-05-01 00:00:00'), Timestamp('2012-05-02 00:00:00'), Timestamp('2012-05-03 00:00:00')]\n",
      "<class 'list'>\n",
      "<class 'pandas.tslib.Timestamp'>\n"
     ]
    }
   ],
   "source": [
    "print(dates)\n",
    "print(type(dates))\n",
    "print(type(dates[0]))"
   ]
  },
  {
   "cell_type": "code",
   "execution_count": 88,
   "metadata": {
    "collapsed": true
   },
   "outputs": [],
   "source": [
    "ts = pd.Series(np.random.randn(3),dates)"
   ]
  },
  {
   "cell_type": "code",
   "execution_count": 92,
   "metadata": {},
   "outputs": [
    {
     "name": "stdout",
     "output_type": "stream",
     "text": [
      "2012-05-01   -0.823709\n",
      "2012-05-02    1.079041\n",
      "2012-05-03   -0.195203\n",
      "dtype: float64\n",
      "<class 'pandas.core.series.Series'>\n",
      "-0.823708595228\n",
      "<class 'numpy.float64'>\n"
     ]
    }
   ],
   "source": [
    "print(ts)\n",
    "print(type(ts))\n",
    "print(ts[0])\n",
    "print(type(ts[0]))"
   ]
  },
  {
   "cell_type": "code",
   "execution_count": 95,
   "metadata": {},
   "outputs": [
    {
     "data": {
      "text/plain": [
       "DatetimeIndex(['2012-05-01', '2012-05-02', '2012-05-03'], dtype='datetime64[ns]', freq=None)"
      ]
     },
     "execution_count": 95,
     "metadata": {},
     "output_type": "execute_result"
    }
   ],
   "source": [
    "ts.index"
   ]
  },
  {
   "cell_type": "code",
   "execution_count": 96,
   "metadata": {},
   "outputs": [
    {
     "name": "stdout",
     "output_type": "stream",
     "text": [
      "<class 'pandas.tseries.index.DatetimeIndex'>\n"
     ]
    }
   ],
   "source": [
    "print(type(ts.index))"
   ]
  },
  {
   "cell_type": "code",
   "execution_count": 102,
   "metadata": {},
   "outputs": [
    {
     "name": "stdout",
     "output_type": "stream",
     "text": [
      "[Period('2012-01', 'M'), Period('2012-02', 'M'), Period('2012-03', 'M')]\n",
      "<class 'list'>\n",
      "2012-01\n",
      "<class 'pandas._period.Period'>\n"
     ]
    }
   ],
   "source": [
    "periods = [pd.Period('2012-01'), pd.Period('2012-02'), pd.Period('2012-03')]\n",
    "print(periods)\n",
    "print(type(periods))\n",
    "print(periods[0])\n",
    "print(type(periods[0]))"
   ]
  },
  {
   "cell_type": "code",
   "execution_count": 105,
   "metadata": {},
   "outputs": [
    {
     "name": "stdout",
     "output_type": "stream",
     "text": [
      "2012-01   -0.613056\n",
      "2012-02    0.604617\n",
      "2012-03    0.904506\n",
      "Freq: M, dtype: float64\n",
      "<class 'pandas.core.series.Series'>\n",
      "-0.61305602916\n",
      "<class 'numpy.float64'>\n"
     ]
    }
   ],
   "source": [
    "tsp = pd.Series(np.random.randn(3), periods)\n",
    "print(tsp)\n",
    "print(type(tsp))\n",
    "print(tsp[0])\n",
    "print(type(tsp[0]))"
   ]
  },
  {
   "cell_type": "code",
   "execution_count": 106,
   "metadata": {},
   "outputs": [
    {
     "data": {
      "text/plain": [
       "pandas.tseries.period.PeriodIndex"
      ]
     },
     "execution_count": 106,
     "metadata": {},
     "output_type": "execute_result"
    }
   ],
   "source": [
    " type(tsp.index)"
   ]
  },
  {
   "cell_type": "code",
   "execution_count": 107,
   "metadata": {},
   "outputs": [
    {
     "data": {
      "text/plain": [
       "PeriodIndex(['2012-01', '2012-02', '2012-03'], dtype='int64', freq='M')"
      ]
     },
     "execution_count": 107,
     "metadata": {},
     "output_type": "execute_result"
    }
   ],
   "source": [
    "tsp.index"
   ]
  },
  {
   "cell_type": "code",
   "execution_count": 108,
   "metadata": {},
   "outputs": [
    {
     "name": "stdout",
     "output_type": "stream",
     "text": [
      "2012-01   -0.613056\n",
      "2012-02    0.604617\n",
      "2012-03    0.904506\n",
      "Freq: M, dtype: float64\n"
     ]
    }
   ],
   "source": [
    "print(tsp)"
   ]
  },
  {
   "cell_type": "code",
   "execution_count": null,
   "metadata": {
    "collapsed": true
   },
   "outputs": [],
   "source": []
  }
 ],
 "metadata": {
  "kernelspec": {
   "display_name": "Python 3",
   "language": "python",
   "name": "python3"
  },
  "language_info": {
   "codemirror_mode": {
    "name": "ipython",
    "version": 3
   },
   "file_extension": ".py",
   "mimetype": "text/x-python",
   "name": "python",
   "nbconvert_exporter": "python",
   "pygments_lexer": "ipython3",
   "version": "3.6.2"
  }
 },
 "nbformat": 4,
 "nbformat_minor": 2
}
